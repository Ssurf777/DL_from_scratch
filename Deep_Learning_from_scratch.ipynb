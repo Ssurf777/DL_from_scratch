{
  "nbformat": 4,
  "nbformat_minor": 0,
  "metadata": {
    "colab": {
      "provenance": [],
      "toc_visible": true,
      "authorship_tag": "ABX9TyP94NaOeQX3C2iCcAB3csDv",
      "include_colab_link": true
    },
    "kernelspec": {
      "name": "python3",
      "display_name": "Python 3"
    },
    "language_info": {
      "name": "python"
    }
  },
  "cells": [
    {
      "cell_type": "markdown",
      "metadata": {
        "id": "view-in-github",
        "colab_type": "text"
      },
      "source": [
        "<a href=\"https://colab.research.google.com/github/Ssurf777/DL_from_scratch/blob/main/Deep_Learning_from_scratch.ipynb\" target=\"_parent\"><img src=\"https://colab.research.google.com/assets/colab-badge.svg\" alt=\"Open In Colab\"/></a>"
      ]
    },
    {
      "cell_type": "markdown",
      "source": [
        "Deep Learning from scratch"
      ],
      "metadata": {
        "id": "sW7AZkSD4BsT"
      }
    },
    {
      "cell_type": "markdown",
      "source": [
        "# 多次元配列"
      ],
      "metadata": {
        "id": "SadSXZxm4Q-6"
      }
    },
    {
      "cell_type": "code",
      "source": [
        "import numpy as np\n",
        "A = np.array([1,2,3,4])\n",
        "print(A)"
      ],
      "metadata": {
        "colab": {
          "base_uri": "https://localhost:8080/"
        },
        "id": "Xgs5J1I_4EPN",
        "outputId": "96876be4-c9b9-4fe7-da87-b3891a0f1e4c"
      },
      "execution_count": null,
      "outputs": [
        {
          "output_type": "stream",
          "name": "stdout",
          "text": [
            "[1 2 3 4]\n"
          ]
        }
      ]
    },
    {
      "cell_type": "markdown",
      "source": [
        "配列次元数の取得 np.ndim()"
      ],
      "metadata": {
        "id": "0u-0h-hd-NuK"
      }
    },
    {
      "cell_type": "code",
      "source": [
        "print(f'{np.ndim(A)}次元')"
      ],
      "metadata": {
        "colab": {
          "base_uri": "https://localhost:8080/"
        },
        "id": "2puZLbh14dJK",
        "outputId": "2682cb5f-e957-4206-c87c-cffaded8ae52"
      },
      "execution_count": null,
      "outputs": [
        {
          "output_type": "stream",
          "name": "stdout",
          "text": [
            "1次元\n"
          ]
        }
      ]
    },
    {
      "cell_type": "code",
      "source": [
        "print(A.shape)"
      ],
      "metadata": {
        "colab": {
          "base_uri": "https://localhost:8080/"
        },
        "id": "H3bpBJkF5Bdj",
        "outputId": "bb7bdcb6-efde-4e11-fd1b-c303ce2622eb"
      },
      "execution_count": null,
      "outputs": [
        {
          "output_type": "stream",
          "name": "stdout",
          "text": [
            "(4,)\n"
          ]
        }
      ]
    },
    {
      "cell_type": "code",
      "source": [
        "print(A.shape[0])"
      ],
      "metadata": {
        "colab": {
          "base_uri": "https://localhost:8080/"
        },
        "id": "Be153ylw5L_D",
        "outputId": "9a079cd0-e01d-4360-d14b-90d1c4825b71"
      },
      "execution_count": null,
      "outputs": [
        {
          "output_type": "stream",
          "name": "stdout",
          "text": [
            "4\n"
          ]
        }
      ]
    },
    {
      "cell_type": "code",
      "source": [
        "B = np.array([ [1,2],[3,4],[5,6] ])\n",
        "print(B)"
      ],
      "metadata": {
        "colab": {
          "base_uri": "https://localhost:8080/"
        },
        "id": "53oR8JVH5Pyg",
        "outputId": "6d8afecf-f5d8-428d-a0e1-a7f05e2c54a3"
      },
      "execution_count": null,
      "outputs": [
        {
          "output_type": "stream",
          "name": "stdout",
          "text": [
            "[[1 2]\n",
            " [3 4]\n",
            " [5 6]]\n"
          ]
        }
      ]
    },
    {
      "cell_type": "code",
      "source": [
        "np.ndim(B)"
      ],
      "metadata": {
        "colab": {
          "base_uri": "https://localhost:8080/"
        },
        "id": "ebsb5WKF-j6-",
        "outputId": "841c791f-3430-4edd-e0f6-998d1b05f41c"
      },
      "execution_count": null,
      "outputs": [
        {
          "output_type": "execute_result",
          "data": {
            "text/plain": [
              "2"
            ]
          },
          "metadata": {},
          "execution_count": 8
        }
      ]
    },
    {
      "cell_type": "code",
      "source": [
        "B.shape"
      ],
      "metadata": {
        "colab": {
          "base_uri": "https://localhost:8080/"
        },
        "id": "EgAHIJMr-xIl",
        "outputId": "8e753056-527b-4b64-a56a-cc09d241511d"
      },
      "execution_count": null,
      "outputs": [
        {
          "output_type": "execute_result",
          "data": {
            "text/plain": [
              "(3, 2)"
            ]
          },
          "metadata": {},
          "execution_count": 9
        }
      ]
    },
    {
      "cell_type": "markdown",
      "source": [
        "$$\n",
        "\\begin{pmatrix}1 & 2 \\\\3 & 4\\end{pmatrix}\n",
        "\\begin{pmatrix}5 & 6 \\\\7 & 8\\end{pmatrix}\n",
        "=\\begin{pmatrix} 19 & 22 \\\\ 43 & 50 \\end{pmatrix}\n",
        "$$"
      ],
      "metadata": {
        "id": "oIVKjYK9_GWJ"
      }
    },
    {
      "cell_type": "code",
      "source": [
        "A = np.array([[1, 2],[3, 4]])\n",
        "B = np.array([[5, 6],[7, 8]])\n",
        "C = np.dot(A, B)\n",
        "print(C)"
      ],
      "metadata": {
        "colab": {
          "base_uri": "https://localhost:8080/"
        },
        "id": "yf3whlCW-3tQ",
        "outputId": "5e681455-16be-4e92-ea06-7aa1207f7c9e"
      },
      "execution_count": null,
      "outputs": [
        {
          "output_type": "stream",
          "name": "stdout",
          "text": [
            "[[19 22]\n",
            " [43 50]]\n"
          ]
        }
      ]
    },
    {
      "cell_type": "markdown",
      "source": [
        "$$\n",
        "\\begin{pmatrix}1 & 2 & 3\\\\4 & 5 & 6\\end{pmatrix}\n",
        "\\begin{pmatrix}1 & 2 \\\\3 & 4\\\\5 & 6\\end{pmatrix}\n",
        "=\\begin{pmatrix} 22 & 28 \\\\ 49 & 64 \\end{pmatrix}\n",
        "$$"
      ],
      "metadata": {
        "id": "mb3wQNbACmIB"
      }
    },
    {
      "cell_type": "code",
      "source": [
        "A = np.array([[1,2,3], [4,5,6]])\n",
        "print(A.shape)\n",
        "\n",
        "B = np.array([[1, 2], [3, 4], [5, 6]])\n",
        "print(B.shape)\n",
        "\n",
        "print(\"※2行3列×3行2列であると2行2列になる\")"
      ],
      "metadata": {
        "colab": {
          "base_uri": "https://localhost:8080/"
        },
        "id": "yYX6qAC4BoSN",
        "outputId": "5bf3451e-26e0-4ed7-dbfd-8d000da72b67"
      },
      "execution_count": null,
      "outputs": [
        {
          "output_type": "stream",
          "name": "stdout",
          "text": [
            "(2, 3)\n",
            "(3, 2)\n",
            "※2行3列×3行2列であると2行2列になる\n"
          ]
        }
      ]
    },
    {
      "cell_type": "code",
      "source": [
        "C = np.dot(A, B)\n",
        "print(C)"
      ],
      "metadata": {
        "colab": {
          "base_uri": "https://localhost:8080/"
        },
        "id": "xFRZg6tyCRbG",
        "outputId": "9bbedf5a-4528-4b60-a3c5-3c453d4c849a"
      },
      "execution_count": null,
      "outputs": [
        {
          "output_type": "stream",
          "name": "stdout",
          "text": [
            "[[22 28]\n",
            " [49 64]]\n"
          ]
        }
      ]
    },
    {
      "cell_type": "markdown",
      "source": [
        "$$\n",
        "\\begin{pmatrix}1 & 2 \\\\3 & 4 \\\\ 5 & 6\\end{pmatrix}\n",
        "\\begin{pmatrix}7 & 8\\end{pmatrix}\n",
        "=\\begin{pmatrix} 23 & 53 & 83 \\end{pmatrix}\n",
        "$$"
      ],
      "metadata": {
        "id": "1-1m0XBrFBLW"
      }
    },
    {
      "cell_type": "code",
      "source": [
        "A = np.array([[1,2],[3,4],[5,6]])\n",
        "B = np.array([7,8])\n",
        "C = np.dot(A, B)\n",
        "print(C)"
      ],
      "metadata": {
        "colab": {
          "base_uri": "https://localhost:8080/"
        },
        "id": "7jvLo0yuCayh",
        "outputId": "a5bb9ba3-5735-405c-ffe5-f22f119facad"
      },
      "execution_count": null,
      "outputs": [
        {
          "output_type": "stream",
          "name": "stdout",
          "text": [
            "[23 53 83]\n"
          ]
        }
      ]
    },
    {
      "cell_type": "markdown",
      "source": [
        "# ニューラルネットワークの実装"
      ],
      "metadata": {
        "id": "sVz48WJBGbz4"
      }
    },
    {
      "cell_type": "code",
      "source": [
        "import numpy as np\n",
        "\n",
        "# Neural Network INPUT\n",
        "X = np.array([1,2])\n",
        "print(f'X.shape:{X.shape}')\n",
        "\n",
        "# Weight\n",
        "W = np.array([[1, 3, 5], [2, 4, 6]])\n",
        "print(W)\n",
        "print(f'W.shape:{W.shape}')"
      ],
      "metadata": {
        "colab": {
          "base_uri": "https://localhost:8080/"
        },
        "id": "UWeDztGoE_R2",
        "outputId": "771f7f28-143d-4821-c72c-16afad0f5c20"
      },
      "execution_count": null,
      "outputs": [
        {
          "output_type": "stream",
          "name": "stdout",
          "text": [
            "X.shape:(2,)\n",
            "[[1 3 5]\n",
            " [2 4 6]]\n",
            "W.shape:(2, 3)\n"
          ]
        }
      ]
    },
    {
      "cell_type": "code",
      "source": [
        "Y = np.dot(X, W)\n",
        "print(Y)"
      ],
      "metadata": {
        "colab": {
          "base_uri": "https://localhost:8080/"
        },
        "id": "x_lDxL29IjgJ",
        "outputId": "324d674e-494b-4300-acf6-08149da42f27"
      },
      "execution_count": null,
      "outputs": [
        {
          "output_type": "stream",
          "name": "stdout",
          "text": [
            "[ 5 11 17]\n"
          ]
        }
      ]
    },
    {
      "cell_type": "markdown",
      "source": [
        "## 各層における信号伝達の実装"
      ],
      "metadata": {
        "id": "n-8j8FHOBvZN"
      }
    },
    {
      "cell_type": "markdown",
      "source": [
        "$$\n",
        "A^{(1)} = \\begin{pmatrix}\n",
        "a^{(1)}_1 & a^{(1)}_2 & a^{(1)}_3\n",
        "\\end{pmatrix}\n",
        "$$\n",
        "\n",
        "$$\n",
        "X=\\begin{pmatrix}\n",
        "x_1&x_2\n",
        "\\end{pmatrix}\n",
        "$$\n",
        "\n",
        "$$\n",
        "B^{(1)} = \\begin{pmatrix}\n",
        "b^{(1)}_1 & b^{(1)}_2 & b^{(1)}_3\n",
        "\\end{pmatrix}\n",
        "$$\n",
        "\n",
        "$$\n",
        "W^{(1)} = \\begin{pmatrix}\n",
        "w^{(1)}_{11} & w^{(1)}_{12} & w^{(1)}_{13} \\\\\n",
        "w^{(1)}_{21} & w^{(1)}_{22} & w^{(1)}_{23}\n",
        "\\end{pmatrix}\n",
        "$$\n"
      ],
      "metadata": {
        "id": "zZrAqbgIB9VQ"
      }
    },
    {
      "cell_type": "markdown",
      "source": [
        "\n",
        "$$\n",
        "w^{(1)}_{12}\n",
        "$$\n",
        "重みの()内は1層目の重みを指し\n",
        "下付き12は前層2番目のニューロンから次層1番目のニューロンを結ぶエッジの重み"
      ],
      "metadata": {
        "id": "HrNuzr-oFEDY"
      }
    },
    {
      "cell_type": "code",
      "source": [
        "  import numpy as np\n",
        "\n",
        "  # INPUT 1x2\n",
        "  X = np.array([1.0, 0.5])\n",
        "\n",
        "  # Weight of hidden layer1 2x3\n",
        "  W1 = np.array([[0.1, 0.3, 0.5], [0.2, 0.4, 0.6]])\n",
        "\n",
        "  # baias 1x3\n",
        "  B1 = np.array([0.1, 0.2, 0.3])\n",
        "\n",
        "  print(W1.shape)\n",
        "  print(X.shape)\n",
        "  print(B1.shape)\n",
        "\n",
        "# OUTPUT 1x3\n",
        "  A1 =  np.dot(X, W1) + B1\n",
        "  print(A1)"
      ],
      "metadata": {
        "id": "IQwAKs8hJlI4",
        "colab": {
          "base_uri": "https://localhost:8080/"
        },
        "outputId": "07842bd8-1c93-44a3-e325-e584a10919db"
      },
      "execution_count": 6,
      "outputs": [
        {
          "output_type": "stream",
          "name": "stdout",
          "text": [
            "(2, 3)\n",
            "(2,)\n",
            "(3,)\n",
            "[0.3 0.7 1.1]\n"
          ]
        }
      ]
    },
    {
      "cell_type": "markdown",
      "source": [
        "$$\n",
        "sigmoid(x)=\\frac{1}{(1 +\\exp{(-x)})}\n",
        "$$"
      ],
      "metadata": {
        "id": "WSQxlT3DGz7-"
      }
    },
    {
      "cell_type": "code",
      "source": [
        "def sigmoid(x):\n",
        "    return 1 / (1 + np.exp(-x))"
      ],
      "metadata": {
        "id": "MAJZG00HFvtq"
      },
      "execution_count": 7,
      "outputs": []
    },
    {
      "cell_type": "code",
      "source": [
        "# Activation Sigmoid\n",
        "Z1 = sigmoid(A1)\n",
        "print(f'A:{A1}')\n",
        "print(f'Z:{Z1}')"
      ],
      "metadata": {
        "colab": {
          "base_uri": "https://localhost:8080/"
        },
        "id": "zA3ALTHOGy_V",
        "outputId": "8cd70b7a-60ce-4b80-d34b-dee1ba807fd6"
      },
      "execution_count": 8,
      "outputs": [
        {
          "output_type": "stream",
          "name": "stdout",
          "text": [
            "A:[0.3 0.7 1.1]\n",
            "Z:[0.57444252 0.66818777 0.75026011]\n"
          ]
        }
      ]
    },
    {
      "cell_type": "code",
      "source": [
        "# Weight of hidden layer2 (3x2)\n",
        "W2 = np.array([[0.1, 0.4], [0.2, 0.5], [0.3, 0.6]])\n",
        "\n",
        "# bias2\n",
        "B2 = np.array([0.1, 0.2])\n",
        "\n",
        "print(Z1.shape)\n",
        "print(W2.shape)\n",
        "print(B2.shape)\n"
      ],
      "metadata": {
        "colab": {
          "base_uri": "https://localhost:8080/"
        },
        "id": "LdnmnUvZH5MQ",
        "outputId": "8d231773-e486-4e92-b032-bf13c7672199"
      },
      "execution_count": 9,
      "outputs": [
        {
          "output_type": "stream",
          "name": "stdout",
          "text": [
            "(3,)\n",
            "(3, 2)\n",
            "(2,)\n"
          ]
        }
      ]
    },
    {
      "cell_type": "code",
      "source": [
        "#  2層目の出力\n",
        "A2 = np.dot(Z1, W2) + B2\n",
        "Z2 = sigmoid(A2)"
      ],
      "metadata": {
        "id": "ugUeMBSbIsqG"
      },
      "execution_count": 10,
      "outputs": []
    },
    {
      "cell_type": "markdown",
      "source": [
        "### 恒等関数の定義"
      ],
      "metadata": {
        "id": "KRRN_WdsM-_O"
      }
    },
    {
      "cell_type": "code",
      "source": [
        "# 最終層の恒等関数\n",
        "# 最終層は回帰の場合->恒等関数, 2値分類の場合->シグモイド, 多クラス分類の場合->softmax\n",
        "def identity_function(x):\n",
        "    return x"
      ],
      "metadata": {
        "id": "0aWImLq1I__l"
      },
      "execution_count": 14,
      "outputs": []
    },
    {
      "cell_type": "code",
      "source": [
        "W3 = np.array([[0.1, 0.3], [0.2, 0.4]])\n",
        "B3 = np.array([0.1, 0.2])\n",
        "\n",
        "A3 = np.dot(Z2, W3) + B3\n",
        "Y = identity_function(A3)"
      ],
      "metadata": {
        "id": "Jdf4VkflJOrx"
      },
      "execution_count": 15,
      "outputs": []
    },
    {
      "cell_type": "code",
      "source": [
        "print(Y)"
      ],
      "metadata": {
        "colab": {
          "base_uri": "https://localhost:8080/"
        },
        "id": "zdg2n1Y0JtDa",
        "outputId": "9955c2da-6025-47ba-f5d8-766c06ff9034"
      },
      "execution_count": 16,
      "outputs": [
        {
          "output_type": "stream",
          "name": "stdout",
          "text": [
            "[0.31682708 0.69627909]\n"
          ]
        }
      ]
    },
    {
      "cell_type": "code",
      "source": [
        "def init_network():\n",
        "    network = {}\n",
        "    network['W1'] = np.array([[0.1, 0.3, 0.5],[0.2, 0.4, 0.6]])\n",
        "    network['b1'] = np.array([0.1, 0.2, 0.3])\n",
        "    network['W2'] = np.array([[0.1, 0.4],[0.2, 0.5], [0.3, 0.6]])\n",
        "    network['b2'] = np.array([0.1, 0.2])\n",
        "    network['W3'] = np.array([[0.1, 0.3],[0.2, 0.4]])\n",
        "    network['b3'] = np.array([0.1, 0.2])\n",
        "\n",
        "    return network\n",
        "\n",
        "def forward(network, x):\n",
        "    W1, W2, W3 = network['W1'], network['W2'], network['W3']\n",
        "    b1, b2, b3 = network['b1'], network['b2'], network['b3']\n",
        "\n",
        "    a1 = np.dot(x, W1) + b1\n",
        "    z1 = sigmoid(a1)\n",
        "    a2 = np.dot(z1, W2) + b2\n",
        "    z2 = sigmoid(a2)\n",
        "    a3 = np.dot(z2, W3) + b3\n",
        "    y = identity_function(a3)\n",
        "    return y\n",
        "\n",
        "network = init_network()\n",
        "x = np.array([1.0, 0.5])\n",
        "y = forward(network, x)\n",
        "print(y)"
      ],
      "metadata": {
        "colab": {
          "base_uri": "https://localhost:8080/"
        },
        "id": "EZlpgVrkKIV7",
        "outputId": "29cedadc-1395-402a-a8f8-78d1d9ff24a9"
      },
      "execution_count": 17,
      "outputs": [
        {
          "output_type": "stream",
          "name": "stdout",
          "text": [
            "[0.31682708 0.69627909]\n"
          ]
        }
      ]
    },
    {
      "cell_type": "markdown",
      "source": [
        "### Softmax関数の定義"
      ],
      "metadata": {
        "id": "4KSZVeTHNIDd"
      }
    },
    {
      "cell_type": "code",
      "source": [
        "def softmax(a):\n",
        "    exp_a = np.exp(a)\n",
        "    sum_exp_a = np.sum(exp_a)\n",
        "    y = exp_a / sum_exp_a\n",
        "    return y"
      ],
      "metadata": {
        "id": "RHJ_uF61MJ2g"
      },
      "execution_count": 18,
      "outputs": []
    },
    {
      "cell_type": "markdown",
      "source": [
        "### Softmax関数の実装上の注意"
      ],
      "metadata": {
        "id": "HWvOAwWzNmxs"
      }
    },
    {
      "cell_type": "code",
      "source": [
        "a = np.array([1010, 1000, 990])\n",
        "print(np.exp(a) / np.sum(np.exp(a)))\n",
        "# expは容易に大きい値となるため、nanとなりやすい"
      ],
      "metadata": {
        "colab": {
          "base_uri": "https://localhost:8080/"
        },
        "id": "SThhAkLbNlfG",
        "outputId": "150a67ae-9758-4fdc-8fe8-3e0ac774737b"
      },
      "execution_count": 22,
      "outputs": [
        {
          "output_type": "stream",
          "name": "stdout",
          "text": [
            "[nan nan nan]\n"
          ]
        },
        {
          "output_type": "stream",
          "name": "stderr",
          "text": [
            "<ipython-input-22-71b6d1da37bf>:2: RuntimeWarning: overflow encountered in exp\n",
            "  print(np.exp(a) / np.sum(np.exp(a)))\n",
            "<ipython-input-22-71b6d1da37bf>:2: RuntimeWarning: invalid value encountered in divide\n",
            "  print(np.exp(a) / np.sum(np.exp(a)))\n"
          ]
        }
      ]
    },
    {
      "cell_type": "markdown",
      "source": [
        "### Softmaxのオーバーフロー対策\n",
        "\n",
        "$$\n",
        "y_k = \\frac{\\exp(a_k)}{\\sum \\exp(a_i)}\n",
        "=\\frac{C\\exp(a_k)}{C\\Sigma\\exp(a_i)}\n",
        "=\\frac{\\exp(a_k + \\log{C})} {\\Sigma \\exp{(a_i + \\log{C})}}\n",
        "$$"
      ],
      "metadata": {
        "id": "hIdgFJEXOjC1"
      }
    },
    {
      "cell_type": "code",
      "source": [
        "def softmax(a):\n",
        "    c = np.max(a)\n",
        "    exp_a = np.exp(a - c) # prevent overflow\n",
        "    sum_exp_a = np.sum(exp_a)\n",
        "    y = exp_a / sum_exp_a\n",
        "    return y"
      ],
      "metadata": {
        "id": "jLjVdlzLOEkB"
      },
      "execution_count": 23,
      "outputs": []
    },
    {
      "cell_type": "code",
      "source": [
        "softmax(a = np.array([1010, 1000, 990]))"
      ],
      "metadata": {
        "colab": {
          "base_uri": "https://localhost:8080/"
        },
        "id": "i9upwrT_Q6lM",
        "outputId": "b5c3e872-e67a-445a-93fe-4eeb039ab068"
      },
      "execution_count": 24,
      "outputs": [
        {
          "output_type": "execute_result",
          "data": {
            "text/plain": [
              "array([9.99954600e-01, 4.53978686e-05, 2.06106005e-09])"
            ]
          },
          "metadata": {},
          "execution_count": 24
        }
      ]
    },
    {
      "cell_type": "code",
      "source": [],
      "metadata": {
        "id": "HVdevfv4RBum"
      },
      "execution_count": null,
      "outputs": []
    }
  ]
}