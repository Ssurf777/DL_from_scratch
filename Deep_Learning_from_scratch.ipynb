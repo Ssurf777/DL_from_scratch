{
  "nbformat": 4,
  "nbformat_minor": 0,
  "metadata": {
    "colab": {
      "provenance": [],
      "toc_visible": true,
      "authorship_tag": "ABX9TyNfpvpzJq4f/TK+9bQK1d6M",
      "include_colab_link": true
    },
    "kernelspec": {
      "name": "python3",
      "display_name": "Python 3"
    },
    "language_info": {
      "name": "python"
    }
  },
  "cells": [
    {
      "cell_type": "markdown",
      "metadata": {
        "id": "view-in-github",
        "colab_type": "text"
      },
      "source": [
        "<a href=\"https://colab.research.google.com/github/Ssurf777/DL_from_scratch/blob/main/Deep_Learning_from_scratch.ipynb\" target=\"_parent\"><img src=\"https://colab.research.google.com/assets/colab-badge.svg\" alt=\"Open In Colab\"/></a>"
      ]
    },
    {
      "cell_type": "markdown",
      "source": [
        "Deep Learning from scratch"
      ],
      "metadata": {
        "id": "sW7AZkSD4BsT"
      }
    },
    {
      "cell_type": "markdown",
      "source": [
        "# 多次元配列"
      ],
      "metadata": {
        "id": "SadSXZxm4Q-6"
      }
    },
    {
      "cell_type": "code",
      "source": [
        "import numpy as np\n",
        "A = np.array([1,2,3,4])\n",
        "print(A)"
      ],
      "metadata": {
        "colab": {
          "base_uri": "https://localhost:8080/"
        },
        "id": "Xgs5J1I_4EPN",
        "outputId": "96876be4-c9b9-4fe7-da87-b3891a0f1e4c"
      },
      "execution_count": null,
      "outputs": [
        {
          "output_type": "stream",
          "name": "stdout",
          "text": [
            "[1 2 3 4]\n"
          ]
        }
      ]
    },
    {
      "cell_type": "markdown",
      "source": [
        "配列次元数の取得 np.ndim()"
      ],
      "metadata": {
        "id": "0u-0h-hd-NuK"
      }
    },
    {
      "cell_type": "code",
      "source": [
        "print(f'{np.ndim(A)}次元')"
      ],
      "metadata": {
        "colab": {
          "base_uri": "https://localhost:8080/"
        },
        "id": "2puZLbh14dJK",
        "outputId": "2682cb5f-e957-4206-c87c-cffaded8ae52"
      },
      "execution_count": null,
      "outputs": [
        {
          "output_type": "stream",
          "name": "stdout",
          "text": [
            "1次元\n"
          ]
        }
      ]
    },
    {
      "cell_type": "code",
      "source": [
        "print(A.shape)"
      ],
      "metadata": {
        "colab": {
          "base_uri": "https://localhost:8080/"
        },
        "id": "H3bpBJkF5Bdj",
        "outputId": "bb7bdcb6-efde-4e11-fd1b-c303ce2622eb"
      },
      "execution_count": null,
      "outputs": [
        {
          "output_type": "stream",
          "name": "stdout",
          "text": [
            "(4,)\n"
          ]
        }
      ]
    },
    {
      "cell_type": "code",
      "source": [
        "print(A.shape[0])"
      ],
      "metadata": {
        "colab": {
          "base_uri": "https://localhost:8080/"
        },
        "id": "Be153ylw5L_D",
        "outputId": "9a079cd0-e01d-4360-d14b-90d1c4825b71"
      },
      "execution_count": null,
      "outputs": [
        {
          "output_type": "stream",
          "name": "stdout",
          "text": [
            "4\n"
          ]
        }
      ]
    },
    {
      "cell_type": "code",
      "source": [
        "B = np.array([ [1,2],[3,4],[5,6] ])\n",
        "print(B)"
      ],
      "metadata": {
        "colab": {
          "base_uri": "https://localhost:8080/"
        },
        "id": "53oR8JVH5Pyg",
        "outputId": "6d8afecf-f5d8-428d-a0e1-a7f05e2c54a3"
      },
      "execution_count": null,
      "outputs": [
        {
          "output_type": "stream",
          "name": "stdout",
          "text": [
            "[[1 2]\n",
            " [3 4]\n",
            " [5 6]]\n"
          ]
        }
      ]
    },
    {
      "cell_type": "code",
      "source": [
        "np.ndim(B)"
      ],
      "metadata": {
        "colab": {
          "base_uri": "https://localhost:8080/"
        },
        "id": "ebsb5WKF-j6-",
        "outputId": "841c791f-3430-4edd-e0f6-998d1b05f41c"
      },
      "execution_count": null,
      "outputs": [
        {
          "output_type": "execute_result",
          "data": {
            "text/plain": [
              "2"
            ]
          },
          "metadata": {},
          "execution_count": 8
        }
      ]
    },
    {
      "cell_type": "code",
      "source": [
        "B.shape"
      ],
      "metadata": {
        "colab": {
          "base_uri": "https://localhost:8080/"
        },
        "id": "EgAHIJMr-xIl",
        "outputId": "8e753056-527b-4b64-a56a-cc09d241511d"
      },
      "execution_count": null,
      "outputs": [
        {
          "output_type": "execute_result",
          "data": {
            "text/plain": [
              "(3, 2)"
            ]
          },
          "metadata": {},
          "execution_count": 9
        }
      ]
    },
    {
      "cell_type": "markdown",
      "source": [
        "$$\n",
        "\\begin{pmatrix}1 & 2 \\\\3 & 4\\end{pmatrix}\n",
        "\\begin{pmatrix}5 & 6 \\\\7 & 8\\end{pmatrix}\n",
        "=\\begin{pmatrix} 19 & 22 \\\\ 43 & 50 \\end{pmatrix}\n",
        "$$"
      ],
      "metadata": {
        "id": "oIVKjYK9_GWJ"
      }
    },
    {
      "cell_type": "code",
      "source": [
        "A = np.array([[1, 2],[3, 4]])\n",
        "B = np.array([[5, 6],[7, 8]])\n",
        "C = np.dot(A, B)\n",
        "print(C)"
      ],
      "metadata": {
        "colab": {
          "base_uri": "https://localhost:8080/"
        },
        "id": "yf3whlCW-3tQ",
        "outputId": "5e681455-16be-4e92-ea06-7aa1207f7c9e"
      },
      "execution_count": null,
      "outputs": [
        {
          "output_type": "stream",
          "name": "stdout",
          "text": [
            "[[19 22]\n",
            " [43 50]]\n"
          ]
        }
      ]
    },
    {
      "cell_type": "markdown",
      "source": [
        "$$\n",
        "\\begin{pmatrix}1 & 2 & 3\\\\4 & 5 & 6\\end{pmatrix}\n",
        "\\begin{pmatrix}1 & 2 \\\\3 & 4\\\\5 & 6\\end{pmatrix}\n",
        "=\\begin{pmatrix} 22 & 28 \\\\ 49 & 64 \\end{pmatrix}\n",
        "$$"
      ],
      "metadata": {
        "id": "mb3wQNbACmIB"
      }
    },
    {
      "cell_type": "code",
      "source": [
        "A = np.array([[1,2,3], [4,5,6]])\n",
        "print(A.shape)\n",
        "\n",
        "B = np.array([[1, 2], [3, 4], [5, 6]])\n",
        "print(B.shape)\n",
        "\n",
        "print(\"※2行3列×3行2列であると2行2列になる\")"
      ],
      "metadata": {
        "colab": {
          "base_uri": "https://localhost:8080/"
        },
        "id": "yYX6qAC4BoSN",
        "outputId": "5bf3451e-26e0-4ed7-dbfd-8d000da72b67"
      },
      "execution_count": null,
      "outputs": [
        {
          "output_type": "stream",
          "name": "stdout",
          "text": [
            "(2, 3)\n",
            "(3, 2)\n",
            "※2行3列×3行2列であると2行2列になる\n"
          ]
        }
      ]
    },
    {
      "cell_type": "code",
      "source": [
        "C = np.dot(A, B)\n",
        "print(C)"
      ],
      "metadata": {
        "colab": {
          "base_uri": "https://localhost:8080/"
        },
        "id": "xFRZg6tyCRbG",
        "outputId": "9bbedf5a-4528-4b60-a3c5-3c453d4c849a"
      },
      "execution_count": null,
      "outputs": [
        {
          "output_type": "stream",
          "name": "stdout",
          "text": [
            "[[22 28]\n",
            " [49 64]]\n"
          ]
        }
      ]
    },
    {
      "cell_type": "markdown",
      "source": [
        "$$\n",
        "\\begin{pmatrix}1 & 2 \\\\3 & 4 \\\\ 5 & 6\\end{pmatrix}\n",
        "\\begin{pmatrix}7 & 8\\end{pmatrix}\n",
        "=\\begin{pmatrix} 23 & 53 & 83 \\end{pmatrix}\n",
        "$$"
      ],
      "metadata": {
        "id": "1-1m0XBrFBLW"
      }
    },
    {
      "cell_type": "code",
      "source": [
        "A = np.array([[1,2],[3,4],[5,6]])\n",
        "B = np.array([7,8])\n",
        "C = np.dot(A, B)\n",
        "print(C)"
      ],
      "metadata": {
        "colab": {
          "base_uri": "https://localhost:8080/"
        },
        "id": "7jvLo0yuCayh",
        "outputId": "a5bb9ba3-5735-405c-ffe5-f22f119facad"
      },
      "execution_count": null,
      "outputs": [
        {
          "output_type": "stream",
          "name": "stdout",
          "text": [
            "[23 53 83]\n"
          ]
        }
      ]
    },
    {
      "cell_type": "markdown",
      "source": [
        "# ニューラルネットワークの実装"
      ],
      "metadata": {
        "id": "sVz48WJBGbz4"
      }
    },
    {
      "cell_type": "code",
      "source": [
        "import numpy as np\n",
        "\n",
        "# Neural Network INPUT\n",
        "X = np.array([1,2])\n",
        "print(f'X.shape:{X.shape}')\n",
        "\n",
        "# Weight\n",
        "W = np.array([[1, 3, 5], [2, 4, 6]])\n",
        "print(W)\n",
        "print(f'W.shape:{W.shape}')"
      ],
      "metadata": {
        "colab": {
          "base_uri": "https://localhost:8080/"
        },
        "id": "UWeDztGoE_R2",
        "outputId": "771f7f28-143d-4821-c72c-16afad0f5c20"
      },
      "execution_count": null,
      "outputs": [
        {
          "output_type": "stream",
          "name": "stdout",
          "text": [
            "X.shape:(2,)\n",
            "[[1 3 5]\n",
            " [2 4 6]]\n",
            "W.shape:(2, 3)\n"
          ]
        }
      ]
    },
    {
      "cell_type": "code",
      "source": [
        "Y = np.dot(X, W)\n",
        "print(Y)"
      ],
      "metadata": {
        "colab": {
          "base_uri": "https://localhost:8080/"
        },
        "id": "x_lDxL29IjgJ",
        "outputId": "324d674e-494b-4300-acf6-08149da42f27"
      },
      "execution_count": null,
      "outputs": [
        {
          "output_type": "stream",
          "name": "stdout",
          "text": [
            "[ 5 11 17]\n"
          ]
        }
      ]
    },
    {
      "cell_type": "markdown",
      "source": [
        "## ☆各層における信号伝達の実装"
      ],
      "metadata": {
        "id": "n-8j8FHOBvZN"
      }
    },
    {
      "cell_type": "markdown",
      "source": [
        "$$\n",
        "A^{(1)} = \\begin{pmatrix}\n",
        "a^{(1)}_1 & a^{(1)}_2 & a^{(1)}_3\n",
        "\\end{pmatrix}\n",
        "$$\n",
        "\n",
        "$$\n",
        "X=\\begin{pmatrix}\n",
        "x_1&x_2\n",
        "\\end{pmatrix}\n",
        "$$\n",
        "\n",
        "$$\n",
        "B^{(1)} = \\begin{pmatrix}\n",
        "b^{(1)}_1 & b^{(1)}_2 & b^{(1)}_3\n",
        "\\end{pmatrix}\n",
        "$$\n",
        "\n",
        "$$\n",
        "W^{(1)} = \\begin{pmatrix}\n",
        "w^{(1)}_{11} & w^{(1)}_{12} & w^{(1)}_{13} \\\\\n",
        "w^{(1)}_{21} & w^{(1)}_{22} & w^{(1)}_{23}\n",
        "\\end{pmatrix}\n",
        "$$\n"
      ],
      "metadata": {
        "id": "zZrAqbgIB9VQ"
      }
    },
    {
      "cell_type": "markdown",
      "source": [
        "### ☆重みの記号の読み方"
      ],
      "metadata": {
        "id": "jZVd1Z88T5jo"
      }
    },
    {
      "cell_type": "markdown",
      "source": [
        "\n",
        "$$\n",
        "w^{(1)}_{12}\n",
        "$$\n",
        "重みの()内は1層目の重みを指し\n",
        "下付き12は前層2番目のニューロンから次層1番目のニューロンを結ぶエッジの重み"
      ],
      "metadata": {
        "id": "HrNuzr-oFEDY"
      }
    },
    {
      "cell_type": "code",
      "source": [
        "  import numpy as np\n",
        "\n",
        "  # INPUT 1x2\n",
        "  X = np.array([1.0, 0.5])\n",
        "\n",
        "  # Weight of hidden layer1 2x3\n",
        "  W1 = np.array([[0.1, 0.3, 0.5], [0.2, 0.4, 0.6]])\n",
        "\n",
        "  # baias 1x3\n",
        "  B1 = np.array([0.1, 0.2, 0.3])\n",
        "\n",
        "  print(W1.shape)\n",
        "  print(X.shape)\n",
        "  print(B1.shape)\n",
        "\n",
        "# OUTPUT 1x3\n",
        "  A1 =  np.dot(X, W1) + B1\n",
        "  print(A1)"
      ],
      "metadata": {
        "id": "IQwAKs8hJlI4",
        "colab": {
          "base_uri": "https://localhost:8080/"
        },
        "outputId": "07842bd8-1c93-44a3-e325-e584a10919db"
      },
      "execution_count": null,
      "outputs": [
        {
          "output_type": "stream",
          "name": "stdout",
          "text": [
            "(2, 3)\n",
            "(2,)\n",
            "(3,)\n",
            "[0.3 0.7 1.1]\n"
          ]
        }
      ]
    },
    {
      "cell_type": "markdown",
      "source": [
        "### ☆Sigmoid関数の定義"
      ],
      "metadata": {
        "id": "H22m8YZpTpZ9"
      }
    },
    {
      "cell_type": "markdown",
      "source": [
        "$$\n",
        "sigmoid(x)=\\frac{1}{(1 +\\exp{(-x)})}\n",
        "$$"
      ],
      "metadata": {
        "id": "WSQxlT3DGz7-"
      }
    },
    {
      "cell_type": "code",
      "source": [
        "def sigmoid(x):\n",
        "    return 1 / (1 + np.exp(-x))"
      ],
      "metadata": {
        "id": "MAJZG00HFvtq"
      },
      "execution_count": null,
      "outputs": []
    },
    {
      "cell_type": "code",
      "source": [
        "# Activation Sigmoid\n",
        "Z1 = sigmoid(A1)\n",
        "print(f'A:{A1}')\n",
        "print(f'Z:{Z1}')"
      ],
      "metadata": {
        "colab": {
          "base_uri": "https://localhost:8080/"
        },
        "id": "zA3ALTHOGy_V",
        "outputId": "8cd70b7a-60ce-4b80-d34b-dee1ba807fd6"
      },
      "execution_count": null,
      "outputs": [
        {
          "output_type": "stream",
          "name": "stdout",
          "text": [
            "A:[0.3 0.7 1.1]\n",
            "Z:[0.57444252 0.66818777 0.75026011]\n"
          ]
        }
      ]
    },
    {
      "cell_type": "code",
      "source": [
        "# Weight of hidden layer2 (3x2)\n",
        "W2 = np.array([[0.1, 0.4], [0.2, 0.5], [0.3, 0.6]])\n",
        "\n",
        "# bias2\n",
        "B2 = np.array([0.1, 0.2])\n",
        "\n",
        "print(Z1.shape)\n",
        "print(W2.shape)\n",
        "print(B2.shape)\n"
      ],
      "metadata": {
        "colab": {
          "base_uri": "https://localhost:8080/"
        },
        "id": "LdnmnUvZH5MQ",
        "outputId": "8d231773-e486-4e92-b032-bf13c7672199"
      },
      "execution_count": null,
      "outputs": [
        {
          "output_type": "stream",
          "name": "stdout",
          "text": [
            "(3,)\n",
            "(3, 2)\n",
            "(2,)\n"
          ]
        }
      ]
    },
    {
      "cell_type": "code",
      "source": [
        "#  2層目の出力\n",
        "A2 = np.dot(Z1, W2) + B2\n",
        "Z2 = sigmoid(A2)"
      ],
      "metadata": {
        "id": "ugUeMBSbIsqG"
      },
      "execution_count": null,
      "outputs": []
    },
    {
      "cell_type": "markdown",
      "source": [
        "### 恒等関数の定義"
      ],
      "metadata": {
        "id": "KRRN_WdsM-_O"
      }
    },
    {
      "cell_type": "code",
      "source": [
        "# 最終層の恒等関数\n",
        "# 最終層は回帰の場合->恒等関数, 2値分類の場合->シグモイド, 多クラス分類の場合->softmax\n",
        "def identity_function(x):\n",
        "    return x"
      ],
      "metadata": {
        "id": "0aWImLq1I__l"
      },
      "execution_count": null,
      "outputs": []
    },
    {
      "cell_type": "code",
      "source": [
        "W3 = np.array([[0.1, 0.3], [0.2, 0.4]])\n",
        "B3 = np.array([0.1, 0.2])\n",
        "\n",
        "A3 = np.dot(Z2, W3) + B3\n",
        "Y = identity_function(A3)"
      ],
      "metadata": {
        "id": "Jdf4VkflJOrx"
      },
      "execution_count": null,
      "outputs": []
    },
    {
      "cell_type": "code",
      "source": [
        "print(Y)"
      ],
      "metadata": {
        "colab": {
          "base_uri": "https://localhost:8080/"
        },
        "id": "zdg2n1Y0JtDa",
        "outputId": "9955c2da-6025-47ba-f5d8-766c06ff9034"
      },
      "execution_count": null,
      "outputs": [
        {
          "output_type": "stream",
          "name": "stdout",
          "text": [
            "[0.31682708 0.69627909]\n"
          ]
        }
      ]
    },
    {
      "cell_type": "code",
      "source": [
        "def init_network():\n",
        "    network = {}\n",
        "    network['W1'] = np.array([[0.1, 0.3, 0.5],[0.2, 0.4, 0.6]])\n",
        "    network['b1'] = np.array([0.1, 0.2, 0.3])\n",
        "    network['W2'] = np.array([[0.1, 0.4],[0.2, 0.5], [0.3, 0.6]])\n",
        "    network['b2'] = np.array([0.1, 0.2])\n",
        "    network['W3'] = np.array([[0.1, 0.3],[0.2, 0.4]])\n",
        "    network['b3'] = np.array([0.1, 0.2])\n",
        "\n",
        "    return network\n",
        "\n",
        "def forward(network, x):\n",
        "    W1, W2, W3 = network['W1'], network['W2'], network['W3']\n",
        "    b1, b2, b3 = network['b1'], network['b2'], network['b3']\n",
        "\n",
        "    a1 = np.dot(x, W1) + b1\n",
        "    z1 = sigmoid(a1)\n",
        "    a2 = np.dot(z1, W2) + b2\n",
        "    z2 = sigmoid(a2)\n",
        "    a3 = np.dot(z2, W3) + b3\n",
        "    y = identity_function(a3)\n",
        "    return y\n",
        "\n",
        "network = init_network()\n",
        "x = np.array([1.0, 0.5])\n",
        "y = forward(network, x)\n",
        "print(y)"
      ],
      "metadata": {
        "colab": {
          "base_uri": "https://localhost:8080/"
        },
        "id": "EZlpgVrkKIV7",
        "outputId": "29cedadc-1395-402a-a8f8-78d1d9ff24a9"
      },
      "execution_count": null,
      "outputs": [
        {
          "output_type": "stream",
          "name": "stdout",
          "text": [
            "[0.31682708 0.69627909]\n"
          ]
        }
      ]
    },
    {
      "cell_type": "markdown",
      "source": [
        "### ☆Softmax関数の定義"
      ],
      "metadata": {
        "id": "4KSZVeTHNIDd"
      }
    },
    {
      "cell_type": "code",
      "source": [
        "def softmax(a):\n",
        "    exp_a = np.exp(a)\n",
        "    sum_exp_a = np.sum(exp_a)\n",
        "    y = exp_a / sum_exp_a\n",
        "    return y"
      ],
      "metadata": {
        "id": "RHJ_uF61MJ2g"
      },
      "execution_count": null,
      "outputs": []
    },
    {
      "cell_type": "markdown",
      "source": [
        "### ☆Softmax関数の実装上の注意"
      ],
      "metadata": {
        "id": "HWvOAwWzNmxs"
      }
    },
    {
      "cell_type": "code",
      "source": [
        "a = np.array([1010, 1000, 990])\n",
        "print(np.exp(a) / np.sum(np.exp(a)))\n",
        "# expは容易に大きい値となるため、nanとなりやすい"
      ],
      "metadata": {
        "colab": {
          "base_uri": "https://localhost:8080/"
        },
        "id": "SThhAkLbNlfG",
        "outputId": "150a67ae-9758-4fdc-8fe8-3e0ac774737b"
      },
      "execution_count": null,
      "outputs": [
        {
          "output_type": "stream",
          "name": "stdout",
          "text": [
            "[nan nan nan]\n"
          ]
        },
        {
          "output_type": "stream",
          "name": "stderr",
          "text": [
            "<ipython-input-22-71b6d1da37bf>:2: RuntimeWarning: overflow encountered in exp\n",
            "  print(np.exp(a) / np.sum(np.exp(a)))\n",
            "<ipython-input-22-71b6d1da37bf>:2: RuntimeWarning: invalid value encountered in divide\n",
            "  print(np.exp(a) / np.sum(np.exp(a)))\n"
          ]
        }
      ]
    },
    {
      "cell_type": "markdown",
      "source": [
        "### ☆Softmaxのオーバーフロー対策\n",
        "\n",
        "$$\n",
        "y_k = \\frac{\\exp(a_k)}{\\sum \\exp(a_i)}\n",
        "=\\frac{C\\exp(a_k)}{C\\Sigma\\exp(a_i)}\n",
        "=\\frac{\\exp(a_k + \\log{C})} {\\Sigma \\exp{(a_i + \\log{C})}}\n",
        "$$"
      ],
      "metadata": {
        "id": "hIdgFJEXOjC1"
      }
    },
    {
      "cell_type": "code",
      "source": [
        "def softmax(a):\n",
        "    c = np.max(a)\n",
        "    exp_a = np.exp(a - c) # prevent overflow\n",
        "    sum_exp_a = np.sum(exp_a)\n",
        "    y = exp_a / sum_exp_a\n",
        "    return y"
      ],
      "metadata": {
        "id": "jLjVdlzLOEkB"
      },
      "execution_count": null,
      "outputs": []
    },
    {
      "cell_type": "code",
      "source": [
        "softmax(a = np.array([1010, 1000, 990]))"
      ],
      "metadata": {
        "colab": {
          "base_uri": "https://localhost:8080/"
        },
        "id": "i9upwrT_Q6lM",
        "outputId": "b5c3e872-e67a-445a-93fe-4eeb039ab068"
      },
      "execution_count": null,
      "outputs": [
        {
          "output_type": "execute_result",
          "data": {
            "text/plain": [
              "array([9.99954600e-01, 4.53978686e-05, 2.06106005e-09])"
            ]
          },
          "metadata": {},
          "execution_count": 24
        }
      ]
    },
    {
      "cell_type": "markdown",
      "source": [
        "# MNISTデータセット"
      ],
      "metadata": {
        "id": "gEUy58-6YnAo"
      }
    },
    {
      "cell_type": "code",
      "source": [
        "!pip install mnist"
      ],
      "metadata": {
        "colab": {
          "base_uri": "https://localhost:8080/"
        },
        "id": "l1whSZmmY_oY",
        "outputId": "c166c14a-91ca-4ff1-c170-80c5d9bcc702"
      },
      "execution_count": null,
      "outputs": [
        {
          "output_type": "stream",
          "name": "stdout",
          "text": [
            "Collecting mnist\n",
            "  Downloading mnist-0.2.2-py2.py3-none-any.whl (3.5 kB)\n",
            "Requirement already satisfied: numpy in /usr/local/lib/python3.10/dist-packages (from mnist) (1.25.2)\n",
            "Installing collected packages: mnist\n",
            "Successfully installed mnist-0.2.2\n"
          ]
        }
      ]
    },
    {
      "cell_type": "code",
      "source": [
        "import sys, os\n",
        "import numpy as np\n",
        "sys.path.append(os.pardir)\n",
        "from keras.datasets import mnist\n",
        "\n",
        "# MNISTデータセットをロード\n",
        "(X_train, t_train), (X_test, t_test) = mnist.load_data()\n",
        "\n",
        "# データをフラット化する\n",
        "X_train = X_train.reshape(X_train.shape[0], -1)\n",
        "X_test = X_test.reshape(X_test.shape[0], -1)\n",
        "\n",
        "# データを正規化しない（そのまま使用）\n",
        "print(f\"X_train shape: {X_train.shape}, t_train shape: {t_train.shape}\")\n",
        "print(f\"X_test shape: {X_test.shape}, t_test shape: {t_test.shape}\")\n"
      ],
      "metadata": {
        "id": "HVdevfv4RBum",
        "colab": {
          "base_uri": "https://localhost:8080/"
        },
        "outputId": "c7974b56-5386-4a93-f28e-40d005b7f2f7"
      },
      "execution_count": null,
      "outputs": [
        {
          "output_type": "stream",
          "name": "stdout",
          "text": [
            "X_train shape: (60000, 784), t_train shape: (60000,)\n",
            "X_test shape: (10000, 784), t_test shape: (10000,)\n"
          ]
        }
      ]
    },
    {
      "cell_type": "code",
      "source": [
        "# Normalize\n",
        "X_train = X_train / 255\n",
        "X_test = X_test / 255\n"
      ],
      "metadata": {
        "id": "dmA81zLRYl3K"
      },
      "execution_count": null,
      "outputs": []
    },
    {
      "cell_type": "code",
      "source": [
        "# label表示\n",
        "t_train"
      ],
      "metadata": {
        "colab": {
          "base_uri": "https://localhost:8080/"
        },
        "id": "yLfzpyC9Ytww",
        "outputId": "3f6fb8bc-2aa8-48bd-d253-7395a5729b61"
      },
      "execution_count": null,
      "outputs": [
        {
          "output_type": "execute_result",
          "data": {
            "text/plain": [
              "array([5, 0, 4, ..., 5, 6, 8], dtype=uint8)"
            ]
          },
          "metadata": {},
          "execution_count": 20
        }
      ]
    },
    {
      "cell_type": "markdown",
      "source": [
        "もしlabelをone-hotで表記したい場合は下記参照\n",
        "~~~python\n",
        "# テストデータのラベルをone-hotエンコードする\n",
        "from keras.utils import to_categorical\n",
        "\n",
        "t_test = to_categorical(t_test)\n",
        "t_train = to_categorical(t_train)\n",
        "~~~"
      ],
      "metadata": {
        "id": "GaZX91EObr0A"
      }
    },
    {
      "cell_type": "markdown",
      "source": [
        "## MNIST画像を表示"
      ],
      "metadata": {
        "id": "21XfxW6weYMt"
      }
    },
    {
      "cell_type": "code",
      "source": [
        "import sys, os\n",
        "sys.path.append(os.pardir)\n",
        "import numpy as np\n",
        "from keras.datasets import mnist\n",
        "from PIL import Image\n",
        "import matplotlib.pyplot as plt\n",
        "\n",
        "# 画像を表示する関数\n",
        "def img_show(img):\n",
        "    plt.imshow(img, cmap='gray')\n",
        "    plt.show()\n",
        "\n",
        "# MNISTデータセットをロード\n",
        "(X_train, t_train), (X_test, t_test) = mnist.load_data()\n",
        "\n",
        "# データをフラット化する\n",
        "X_train = X_train.reshape(X_train.shape[0], -1)\n",
        "X_test = X_test.reshape(X_test.shape[0], -1)\n",
        "\n",
        "img = X_train[0]\n",
        "label = t_train[0]\n",
        "print(label) #5\n",
        "\n",
        "print(img.shape)\n",
        "img = img.reshape(28, 28)\n",
        "print(img.shape)\n",
        "\n",
        "img_show(img)"
      ],
      "metadata": {
        "colab": {
          "base_uri": "https://localhost:8080/",
          "height": 482
        },
        "id": "bvyav6BybXO5",
        "outputId": "18855176-e963-4178-bcad-ce75c7e57e08"
      },
      "execution_count": null,
      "outputs": [
        {
          "output_type": "stream",
          "name": "stdout",
          "text": [
            "5\n",
            "(784,)\n",
            "(28, 28)\n"
          ]
        },
        {
          "output_type": "display_data",
          "data": {
            "text/plain": [
              "<Figure size 640x480 with 1 Axes>"
            ],
            "image/png": "[encoded data removed]"
          },
          "metadata": {}
        }
      ]
    },
    {
      "cell_type": "markdown",
      "source": [
        "## ニューラルネットワークの推論処理"
      ],
      "metadata": {
        "id": "Pb9VJtqNgbNb"
      }
    },
    {
      "cell_type": "code",
      "source": [
        "import sys, os\n",
        "sys.path.append(os.pardir)\n",
        "import numpy as np\n",
        "from keras.datasets import mnist\n",
        "from PIL import Image\n",
        "import matplotlib.pyplot as plt\n",
        "\n",
        "def get_data():\n",
        "    (X_train, t_train), (X_test, t_test) = mnist.load_data()\n",
        "    # データをフラット化する\n",
        "    X_train = X_train.reshape(X_train.shape[0], -1)\n",
        "    X_test = X_test.reshape(X_test.shape[0], -1)\n",
        "    # Normalization\n",
        "    X_train = X_train / 255\n",
        "    X_test = X_test / 255\n",
        "    return X_test, t_test\n",
        "\n",
        "def sigmoid(x):\n",
        "    return 1 / (1 + np.exp(-x))\n",
        "\n",
        "def init_network():\n",
        "#    with open(\"sample_weight.pkl\", \"rb\") as f:\n",
        "#      network = pickle.load(f)\n",
        "    # GitHubのURL\n",
        "    url = \"https://github.com/Ssurf777/DL_from_scratch/blob/main/sample_weight.pkl?raw=true\"\n",
        "\n",
        "    # URLからデータを取得\n",
        "    response = requests.get(url)\n",
        "    response.raise_for_status()  # リクエストが成功したか確認\n",
        "    # バイナリデータとしてロード\n",
        "    network = pickle.loads(response.content)\n",
        "\n",
        "    return network\n",
        "\n",
        "def predict(network, x):\n",
        "    W1, W2, W3 = network['W1'], network['W2'], network['W3']\n",
        "    b1, b2, b3 = network['b1'], network['b2'], network['b3']\n",
        "    a1 = np.dot(x, W1) + b1\n",
        "    z1 = sigmoid(a1)\n",
        "    a2 = np.dot(z1, W2) + b2\n",
        "    z2 = sigmoid(a2)\n",
        "    a3 = np.dot(z2, W3) + b3\n",
        "    y = sigmoid(a3)\n",
        "\n",
        "    return y"
      ],
      "metadata": {
        "id": "CWjlFVDYfLQm"
      },
      "execution_count": null,
      "outputs": []
    },
    {
      "cell_type": "markdown",
      "source": [
        "### GithubよりWeightのロード\n"
      ],
      "metadata": {
        "id": "01l-NKrxjN8K"
      }
    },
    {
      "cell_type": "code",
      "source": [
        "import requests\n",
        "import pickle\n",
        "\n",
        "# GitHubのURL\n",
        "url = \"https://github.com/Ssurf777/DL_from_scratch/blob/main/sample_weight.pkl?raw=true\"\n",
        "\n",
        "# URLからデータを取得\n",
        "response = requests.get(url)\n",
        "response.raise_for_status()  # リクエストが成功したか確認\n",
        "\n",
        "# バイナリデータとしてロード\n",
        "weights = pickle.loads(response.content)\n",
        "\n",
        "# 重みを確認\n",
        "print(weights)\n"
      ],
      "metadata": {
        "colab": {
          "base_uri": "https://localhost:8080/"
        },
        "id": "zfqK4ejei2V3",
        "outputId": "e483a94f-1bf7-44a3-f010-7f29c55c16c9"
      },
      "execution_count": null,
      "outputs": [
        {
          "output_type": "stream",
          "name": "stdout",
          "text": [
            "{'b2': array([-0.01471108, -0.07215131, -0.00155692,  0.12199665,  0.11603302,\n",
            "       -0.00754946,  0.04085451, -0.08496164,  0.02898045,  0.0199724 ,\n",
            "        0.19770803,  0.04365116, -0.06518728, -0.05226324,  0.0113163 ,\n",
            "        0.03049979,  0.04060355,  0.0695399 , -0.07778469,  0.0692313 ,\n",
            "       -0.09365533,  0.0548001 , -0.03843745,  0.02123107,  0.03793406,\n",
            "       -0.02806267, -0.01818407,  0.06870425,  0.0542943 ,  0.0674368 ,\n",
            "        0.06264312, -0.0233236 , -0.01589135,  0.01860516,  0.01839287,\n",
            "       -0.01568104, -0.07422207, -0.01606729, -0.02262172, -0.01007509,\n",
            "        0.0434415 , -0.12020151,  0.02802471, -0.07591944, -0.00533499,\n",
            "       -0.08935217, -0.0181419 ,  0.0330689 , -0.01812706, -0.07689384,\n",
            "       -0.02715412, -0.03847084, -0.05315471, -0.02153288,  0.06898243,\n",
            "        0.02431128, -0.00333816,  0.00817491,  0.03911701, -0.02924617,\n",
            "        0.07184725, -0.00356748,  0.02246175,  0.03987982, -0.04921926,\n",
            "        0.02454282,  0.05875788,  0.08505439, -0.00190306, -0.03044275,\n",
            "       -0.06383366,  0.0470311 , -0.12005549,  0.03573952, -0.04293387,\n",
            "        0.03283867, -0.03347731, -0.13659105, -0.00123189,  0.00096832,\n",
            "        0.04590394, -0.02517798, -0.02073979,  0.02005584,  0.010629  ,\n",
            "        0.01902938, -0.01046924,  0.05777885,  0.04737163, -0.04362756,\n",
            "        0.07450858,  0.05077952,  0.06648835,  0.04064002, -0.00265163,\n",
            "        0.00576806, -0.09652461, -0.05131314,  0.02199687, -0.04358608],\n",
            "      dtype=float32), 'W1': array([[-0.00741249, -0.00790439, -0.01307499, ...,  0.01978721,\n",
            "        -0.04331266, -0.01350104],\n",
            "       [-0.01029745, -0.01616653, -0.01228376, ...,  0.01920228,\n",
            "         0.02809811,  0.01450908],\n",
            "       [-0.01309184, -0.00244747, -0.0177224 , ...,  0.00944778,\n",
            "         0.01387301,  0.03393568],\n",
            "       ...,\n",
            "       [ 0.02242565, -0.0296145 , -0.06326169, ..., -0.01012643,\n",
            "         0.01120969,  0.01027199],\n",
            "       [-0.00761533,  0.02028973, -0.01498873, ...,  0.02735376,\n",
            "        -0.01229855,  0.02407041],\n",
            "       [ 0.00027915, -0.06848375,  0.00911191, ..., -0.03183098,\n",
            "         0.00743086, -0.04021148]], dtype=float32), 'b1': array([-0.06750315,  0.0695926 , -0.02730473,  0.02256093, -0.22001474,\n",
            "       -0.22038847,  0.04862635,  0.13499236,  0.23342554, -0.0487357 ,\n",
            "        0.10170191, -0.03076038,  0.15482435,  0.05212503,  0.06017235,\n",
            "       -0.03364862, -0.11218343, -0.26460695, -0.03323386,  0.13610415,\n",
            "        0.06354368,  0.04679805, -0.01621654, -0.05775835, -0.03108677,\n",
            "        0.10366164, -0.0845938 ,  0.11665157,  0.21852103,  0.04437255,\n",
            "        0.03378392, -0.01720384, -0.07383765,  0.16152057, -0.10621249,\n",
            "       -0.01646949,  0.00913961,  0.10238428,  0.00916639, -0.0564299 ,\n",
            "       -0.10607515,  0.09892716, -0.07136887, -0.06349134,  0.12461706,\n",
            "        0.02242282, -0.00047972,  0.04527043, -0.15179175,  0.10716812],\n",
            "      dtype=float32), 'W2': array([[-0.10694039,  0.01591247, -0.44349867, ...,  0.03561032,\n",
            "         0.14045963,  0.03964241],\n",
            "       [ 0.29911557, -0.03322235, -0.08902215, ..., -0.04722451,\n",
            "        -0.0972147 ,  0.2950258 ],\n",
            "       [ 0.06576645,  0.6330455 ,  0.02325344, ...,  0.05046809,\n",
            "         0.26831996, -0.13252524],\n",
            "       ...,\n",
            "       [-0.1839421 , -0.10925075,  0.25180233, ...,  0.06017017,\n",
            "         0.11689074,  0.28868544],\n",
            "       [ 0.10001627,  0.0899286 , -0.03874066, ...,  0.15217757,\n",
            "        -0.05744234, -0.00713823],\n",
            "       [-0.02220659, -0.05105179,  0.00777963, ..., -0.531206  ,\n",
            "        -0.4042084 ,  0.0090801 ]], dtype=float32), 'W3': array([[-4.21735764e-01,  6.89445496e-01,  8.78510177e-02,\n",
            "        -4.83838320e-01, -1.95891604e-01, -3.11136067e-01,\n",
            "         5.49542189e-01,  5.37674278e-02, -3.05000603e-01,\n",
            "         2.75984704e-02],\n",
            "       [-5.24320543e-01, -1.43624887e-01, -4.42160573e-03,\n",
            "         4.17745829e-01,  2.15625867e-01, -2.56584466e-01,\n",
            "        -1.00939667e+00,  8.12479675e-01, -3.98552269e-02,\n",
            "         8.23425591e-01],\n",
            "       [ 6.82799876e-01, -5.12037337e-01, -4.41083580e-01,\n",
            "        -8.21710154e-02,  3.19505751e-01,  1.08093655e+00,\n",
            "         2.96021044e-01, -4.06458199e-01, -3.87590617e-01,\n",
            "        -9.11374271e-01],\n",
            "       [ 1.55144155e-01,  6.78902492e-02,  9.47823405e-01,\n",
            "        -1.68429948e-02, -5.80456555e-01,  3.27762365e-02,\n",
            "         3.62194031e-01,  7.43931830e-01, -8.67070615e-01,\n",
            "        -8.71464610e-01],\n",
            "       [ 5.05435288e-01, -2.73010045e-01, -3.86344641e-02,\n",
            "         1.62854403e-01, -6.88129485e-01,  3.32544267e-01,\n",
            "         2.02865437e-01,  9.50981900e-02,  1.51449129e-01,\n",
            "        -7.51806647e-02],\n",
            "       [-1.96135119e-01, -1.86595306e-01, -7.12956667e-01,\n",
            "         1.86611667e-01,  4.71210986e-01,  2.42333114e-01,\n",
            "        -6.10382736e-01,  7.51007020e-01, -3.54771428e-02,\n",
            "         3.63117427e-01],\n",
            "       [-3.40776503e-01,  1.12583566e+00, -7.88639635e-02,\n",
            "        -2.40077689e-01, -1.88947007e-01,  2.77629793e-01,\n",
            "         5.58597930e-02,  7.87557483e-01, -7.21895814e-01,\n",
            "        -6.01844311e-01],\n",
            "       [-5.99524677e-01,  7.77958393e-01, -6.34838939e-01,\n",
            "        -4.66428464e-03,  7.62679726e-02, -5.22314072e-01,\n",
            "        -5.41155636e-01,  1.18006003e+00, -5.90134799e-01,\n",
            "         6.01088047e-01],\n",
            "       [-3.76633376e-01,  5.10982513e-01, -2.23146994e-02,\n",
            "        -2.52363771e-01, -3.46366763e-01,  2.64313281e-01,\n",
            "         3.83371353e-01, -7.59539828e-02,  1.97959334e-01,\n",
            "        -4.29215163e-01],\n",
            "       [ 6.50213897e-01, -3.07582080e-01, -1.82832479e-01,\n",
            "         3.61862123e-01, -2.20673040e-01,  2.36749575e-01,\n",
            "         1.46889806e-01, -8.55163217e-01, -4.77893144e-01,\n",
            "         5.95522761e-01],\n",
            "       [ 9.80530322e-01, -2.83191472e-01,  4.37024772e-01,\n",
            "         3.36801678e-01, -7.04811275e-01,  5.14311731e-01,\n",
            "         3.63065779e-01,  1.93833143e-01, -9.63333666e-01,\n",
            "        -9.99653816e-01],\n",
            "       [-5.14112294e-01, -5.21245450e-02,  8.73817950e-02,\n",
            "         6.49854317e-02, -6.79773763e-02,  5.75620718e-02,\n",
            "         2.17452496e-02,  2.97408521e-01,  6.58227876e-02,\n",
            "         5.48533797e-02],\n",
            "       [-1.22029677e-01, -5.97060800e-01, -1.67890251e-01,\n",
            "        -7.57286906e-01,  3.32458198e-01,  4.26246405e-01,\n",
            "        -5.21180809e-01,  2.07759365e-01, -3.89716327e-02,\n",
            "         7.81422555e-01],\n",
            "       [ 1.54342026e-01, -3.68901044e-01,  5.82112253e-01,\n",
            "         5.15596330e-01, -5.64041555e-01, -4.99413550e-01,\n",
            "        -8.81392837e-01,  2.10159346e-01,  1.86985135e-01,\n",
            "        -4.38510999e-02],\n",
            "       [ 4.54860330e-01, -3.00265312e-01,  6.81924820e-01,\n",
            "        -2.64147162e-01, -2.18347400e-01,  1.88041180e-01,\n",
            "         3.81713420e-01, -7.35825658e-01,  2.48639315e-01,\n",
            "        -4.43372279e-01],\n",
            "       [-5.25331438e-01,  1.18984044e+00,  3.92173350e-01,\n",
            "         6.12658978e-01, -6.09629095e-01, -1.64488718e-01,\n",
            "        -4.21452105e-01, -1.57024071e-01,  4.09224838e-01,\n",
            "        -4.47212726e-01],\n",
            "       [ 6.64840162e-01, -4.77979153e-01, -2.65062183e-01,\n",
            "         6.36108816e-01, -1.42231810e+00,  3.43148038e-02,\n",
            "        -1.16741645e+00,  7.00149655e-01,  1.24187134e-01,\n",
            "         9.88344133e-01],\n",
            "       [ 9.01858881e-02,  1.87217399e-01,  2.40680173e-01,\n",
            "         2.17940882e-01, -4.56552237e-01,  1.17312826e-01,\n",
            "         1.69359997e-01, -4.43112820e-01,  3.64482552e-01,\n",
            "        -1.11816239e+00],\n",
            "       [ 4.91134822e-01, -9.00796771e-01, -5.36716223e-01,\n",
            "        -7.89842069e-01,  3.83926064e-01,  2.72480428e-01,\n",
            "        -2.04326913e-01,  1.29462862e-02,  8.45103979e-01,\n",
            "         4.70017105e-01],\n",
            "       [ 5.84113061e-01, -5.51996469e-01,  6.50859475e-01,\n",
            "         8.69455695e-01, -1.85319453e-01, -6.97416365e-01,\n",
            "        -1.75041392e-01,  9.19872299e-02, -2.56296039e-01,\n",
            "        -7.93265477e-02],\n",
            "       [-6.92425907e-01, -1.96424216e-01, -2.89716989e-01,\n",
            "         4.59242135e-01,  3.48947614e-01, -1.67159468e-01,\n",
            "         1.60998300e-01, -8.09544206e-01,  6.75078809e-01,\n",
            "         1.56182379e-01],\n",
            "       [-1.29524320e-02,  3.38228792e-01,  5.93463369e-02,\n",
            "        -6.87147900e-02, -5.87453544e-01,  7.74757266e-02,\n",
            "        -2.76282996e-01,  2.38401830e-01,  6.18681967e-01,\n",
            "        -5.51157482e-02],\n",
            "       [-1.18962085e+00,  2.37674057e-01,  7.05483854e-02,\n",
            "         2.19739154e-01,  8.16889703e-01, -3.32062960e-01,\n",
            "        -5.38534045e-01,  1.60113409e-01, -8.55953246e-02,\n",
            "         5.15658796e-01],\n",
            "       [ 4.10203546e-01,  6.13717549e-03,  5.66948950e-01,\n",
            "        -2.59074479e-01, -1.50069296e-01,  2.25018293e-01,\n",
            "         4.06786650e-01, -7.35297143e-01, -3.46720248e-01,\n",
            "        -2.61616319e-01],\n",
            "       [ 4.59970772e-01, -4.31826115e-01, -8.56852472e-01,\n",
            "         7.73031771e-01,  1.38916939e-01,  5.60679853e-01,\n",
            "         2.40944013e-01, -8.48280013e-01, -3.33365619e-01,\n",
            "         4.76054907e-01],\n",
            "       [-9.88283753e-02, -1.76046476e-01,  5.23827970e-01,\n",
            "         4.93311286e-01, -3.64566833e-01, -6.25113010e-01,\n",
            "        -1.03237808e-01,  1.33148193e-01, -2.17261493e-01,\n",
            "         4.12722528e-01],\n",
            "       [ 1.01385760e+00, -8.49169970e-01, -5.17473184e-02,\n",
            "         1.36904821e-01, -2.97809035e-01, -2.57933736e-01,\n",
            "         9.45847854e-02,  1.84433058e-01, -9.48848128e-02,\n",
            "        -1.27696171e-01],\n",
            "       [ 1.10258982e-01, -1.13074876e-01,  3.61660570e-01,\n",
            "         6.37016416e-01, -9.38879609e-01,  4.03465390e-01,\n",
            "        -8.38840306e-01,  8.87874886e-02,  6.13263905e-01,\n",
            "        -2.62609452e-01],\n",
            "       [ 3.35207991e-02, -3.10817391e-01,  6.60446942e-01,\n",
            "        -8.03743303e-02, -3.53499681e-01,  1.35674715e-01,\n",
            "         7.04031825e-01, -5.38375497e-01,  2.68499017e-01,\n",
            "        -3.45674306e-01],\n",
            "       [ 5.69811165e-01, -5.41205049e-01,  2.31889188e-02,\n",
            "         4.89905447e-01, -2.72151738e-01,  5.81560850e-01,\n",
            "        -1.45812467e-01, -6.32519484e-01,  1.47586465e-01,\n",
            "        -4.30490822e-01],\n",
            "       [-1.78033903e-01,  4.55413640e-01,  2.76871175e-01,\n",
            "         7.92362913e-02, -1.37377933e-01, -5.41430473e-01,\n",
            "         1.04435158e+00, -2.25798294e-01, -5.47417521e-01,\n",
            "        -6.21576250e-01],\n",
            "       [-3.71773511e-01,  1.31890997e-01,  9.79362205e-02,\n",
            "         6.88198984e-01, -1.36723658e-02, -4.33259517e-01,\n",
            "         2.70418584e-01,  6.90640584e-02, -7.96580434e-01,\n",
            "        -5.26694544e-02],\n",
            "       [-7.46119380e-01,  9.01669323e-01, -2.98285723e-01,\n",
            "        -6.93346620e-01,  2.22594962e-01,  3.04485057e-02,\n",
            "         6.12528384e-01,  2.91027486e-01, -6.12122193e-02,\n",
            "         2.26576433e-01],\n",
            "       [ 3.48814666e-01, -4.58619356e-01, -6.81712866e-01,\n",
            "        -8.45831633e-01,  3.85846436e-01,  3.74807537e-01,\n",
            "         6.80784345e-01,  4.05046254e-01, -3.60009670e-01,\n",
            "         4.06914890e-01],\n",
            "       [-2.68160850e-01,  1.07725048e+00, -2.42447808e-01,\n",
            "        -2.51773655e-01, -4.94481117e-01,  7.93285251e-01,\n",
            "        -1.86872244e-01,  2.33764172e-01,  7.65040368e-02,\n",
            "        -5.82407176e-01],\n",
            "       [-2.11705387e-01, -1.51310667e-01,  4.11912441e-01,\n",
            "        -3.43303621e-01,  8.63409936e-01, -1.09486476e-01,\n",
            "         3.09372574e-01,  9.14473683e-02, -8.08858573e-01,\n",
            "        -4.53698725e-01],\n",
            "       [-8.46252620e-01,  2.60528892e-01, -2.08791450e-01,\n",
            "         3.45685095e-01,  3.24550092e-01,  1.55364513e-01,\n",
            "        -7.04575300e-01, -3.74434799e-01,  6.25603318e-01,\n",
            "         2.56761312e-01],\n",
            "       [ 1.74457684e-01,  1.81623884e-02,  5.10722816e-01,\n",
            "         1.43729225e-01, -5.16600788e-01, -1.29177034e-01,\n",
            "        -2.84929127e-01,  7.80223534e-02, -1.95045814e-01,\n",
            "        -3.94748539e-01],\n",
            "       [-9.24672037e-02, -2.23728850e-01, -9.66394618e-02,\n",
            "        -4.45146620e-01,  6.13103390e-01, -3.68567199e-01,\n",
            "         3.70431751e-01,  2.21393555e-01, -2.72072498e-02,\n",
            "         5.77588558e-01],\n",
            "       [ 4.03020531e-01, -2.55338818e-01, -8.18292499e-01,\n",
            "        -7.23324642e-02, -1.96062587e-02,  1.01438415e+00,\n",
            "        -1.16559081e-01,  8.81542623e-01, -4.94637221e-01,\n",
            "         1.04218423e-01],\n",
            "       [ 2.29111224e-01,  7.30729550e-02,  1.22222453e-01,\n",
            "         3.62838387e-01, -3.36847633e-01,  3.46625239e-01,\n",
            "         4.59826976e-01, -1.19660234e+00,  6.46007299e-01,\n",
            "        -3.92430216e-01],\n",
            "       [-6.43994093e-01, -2.67290205e-01,  9.30678025e-02,\n",
            "         3.94550234e-01,  1.39838919e-01, -1.74355850e-01,\n",
            "        -6.76944792e-01, -2.02130079e-01,  7.06950128e-01,\n",
            "         5.73860466e-01],\n",
            "       [ 1.07093401e-01, -2.68440068e-01, -2.92150110e-01,\n",
            "         1.73880085e-01, -3.07512134e-01, -3.96545947e-01,\n",
            "        -1.84642792e-01,  3.94368291e-01, -4.25530560e-02,\n",
            "         3.89361382e-01],\n",
            "       [-9.44061875e-01,  3.12739849e-01,  7.40508661e-02,\n",
            "         3.96307945e-01,  5.65728784e-01, -7.04721391e-01,\n",
            "        -5.46964332e-02, -2.59483963e-01,  1.21336356e-01,\n",
            "         1.15879285e+00],\n",
            "       [-3.42181930e-03, -2.76601106e-01,  1.77765489e-01,\n",
            "        -1.00918278e-01,  5.06949902e-01,  1.84735537e-01,\n",
            "         3.32832158e-01, -2.01131087e-02, -9.75943431e-02,\n",
            "        -6.96182191e-01],\n",
            "       [ 3.78743917e-01, -1.30411685e-01,  5.25011957e-01,\n",
            "        -4.92531627e-01,  8.44208971e-02, -4.36175138e-01,\n",
            "         4.46968526e-01, -6.69526532e-02, -2.38409087e-01,\n",
            "         1.86576545e-01],\n",
            "       [-1.38466686e-01,  2.03825533e-01,  7.62569189e-01,\n",
            "         5.65001488e-01, -4.62089807e-01, -9.06799734e-02,\n",
            "        -3.04654509e-01, -3.25737983e-01,  3.49818558e-01,\n",
            "        -2.02839971e-01],\n",
            "       [ 2.19535548e-02, -5.79012573e-01, -2.61314094e-01,\n",
            "        -7.66233563e-01,  6.20492339e-01,  2.91753441e-01,\n",
            "         3.10217768e-01,  1.84355244e-01, -3.97317529e-01,\n",
            "         1.77944213e-01],\n",
            "       [ 8.36480111e-02,  1.80452511e-01, -1.26577318e-01,\n",
            "         1.01459846e-01, -4.49865282e-01,  2.09935844e-01,\n",
            "        -8.78130078e-01,  3.66405249e-01, -5.88898994e-02,\n",
            "         1.14128381e-01],\n",
            "       [ 4.04730767e-01, -2.30980113e-01, -2.02063665e-01,\n",
            "        -8.40371922e-02,  3.85631770e-01, -2.53033131e-01,\n",
            "        -7.08307028e-01,  4.86081317e-02,  5.63206136e-01,\n",
            "        -2.45178029e-01],\n",
            "       [ 1.23736739e-01,  6.76029548e-03, -4.96723533e-01,\n",
            "         1.10396254e+00,  9.44059342e-02,  1.11372745e+00,\n",
            "         1.17447861e-02, -6.46701455e-01, -4.05388534e-01,\n",
            "        -6.19069815e-01],\n",
            "       [-4.22820002e-01,  1.78682953e-01, -3.56148094e-01,\n",
            "         2.37796769e-01, -3.54685962e-01,  3.11215729e-01,\n",
            "         4.49742610e-03, -4.62334067e-01,  1.25280845e+00,\n",
            "         2.57526368e-01],\n",
            "       [ 5.01734205e-03, -2.78115179e-02,  8.33090007e-01,\n",
            "        -9.38227713e-01,  4.41729516e-01, -2.41064683e-01,\n",
            "         2.70801604e-01, -2.75141865e-01,  2.39632681e-01,\n",
            "        -2.43629783e-01],\n",
            "       [ 1.65217429e-01,  1.71752870e-01, -3.43052834e-01,\n",
            "        -6.45057321e-01,  4.53449517e-01,  1.79140553e-01,\n",
            "         4.08720821e-01, -8.79922092e-01,  4.29752409e-01,\n",
            "         3.10203969e-01],\n",
            "       [ 4.18428481e-01,  6.94155693e-01,  3.97938192e-01,\n",
            "         4.51456159e-01, -7.18708575e-01,  9.63209383e-03,\n",
            "        -4.92072105e-01,  5.09976700e-04, -2.95970529e-01,\n",
            "        -4.95860398e-01],\n",
            "       [-1.76199555e-01,  7.09368765e-01, -2.31948897e-01,\n",
            "         3.25359583e-01, -4.63672340e-01,  7.24577367e-01,\n",
            "        -4.43653435e-01, -1.68254837e-01,  2.95370251e-01,\n",
            "        -4.97434855e-01],\n",
            "       [-1.87396109e-01, -2.23947570e-01,  2.42886275e-01,\n",
            "        -2.86557496e-01,  2.73342788e-01, -1.13700256e-02,\n",
            "        -3.06602985e-01,  5.72437823e-01, -2.42054805e-01,\n",
            "         3.46188515e-01],\n",
            "       [-1.17365503e+00,  5.90703338e-02, -1.56762972e-01,\n",
            "         1.38338506e-01,  6.11611664e-01, -1.62515834e-01,\n",
            "        -2.27308512e-01,  5.09866297e-01,  7.78953657e-02,\n",
            "        -8.07275623e-03],\n",
            "       [-1.22156359e-01, -2.62149960e-01, -2.96030581e-01,\n",
            "        -6.09369529e-03,  8.27431440e-01,  1.45755662e-02,\n",
            "         1.35886416e-01,  4.84385580e-01, -6.17888629e-01,\n",
            "        -2.57963389e-01],\n",
            "       [-1.18745811e-01, -3.78561169e-02,  8.41072202e-02,\n",
            "         1.59376860e-01,  2.78664678e-01, -5.57438016e-01,\n",
            "        -1.06849708e-01,  7.62400031e-02, -1.46159276e-01,\n",
            "         6.71272278e-01],\n",
            "       [-4.58585024e-01, -2.70307302e-01,  8.93705249e-01,\n",
            "         4.14883375e-01,  5.04897237e-01, -5.52910447e-01,\n",
            "         7.95029774e-02,  3.26490283e-01, -4.37226027e-01,\n",
            "        -1.50011420e-01],\n",
            "       [-2.27586448e-01,  2.70228744e-01, -1.38651179e-02,\n",
            "        -1.68369621e-01, -6.68714801e-03,  1.84312925e-01,\n",
            "        -2.07858533e-01, -7.48970136e-02,  2.81839728e-01,\n",
            "         1.62073016e-01],\n",
            "       [-2.93510854e-01,  5.90191126e-01, -8.06541979e-01,\n",
            "         4.55247253e-01, -6.28962517e-02,  4.05282497e-01,\n",
            "        -8.00064087e-01,  1.01426566e+00, -9.47925091e-01,\n",
            "         1.12049413e+00],\n",
            "       [ 1.03260410e+00, -3.75866979e-01, -2.32749850e-01,\n",
            "         3.54511850e-02,  1.59004685e-02,  1.35123044e-01,\n",
            "        -1.82888061e-01,  5.62692165e-01, -7.38840044e-01,\n",
            "        -1.65996298e-01],\n",
            "       [-3.03140342e-01, -3.99403989e-01, -1.24023721e-01,\n",
            "         8.09619203e-02,  6.03184886e-02, -3.47880661e-01,\n",
            "        -3.64323795e-01,  7.73909748e-01, -5.57690300e-02,\n",
            "         7.16391385e-01],\n",
            "       [-9.02440190e-01,  4.48047310e-01,  3.87582779e-01,\n",
            "        -1.07054925e+00,  6.14855111e-01, -4.32848215e-01,\n",
            "         6.89762652e-01,  1.21512324e-01,  1.68398306e-01,\n",
            "        -5.61287642e-01],\n",
            "       [-6.52550608e-02,  5.19375086e-01,  2.36409321e-01,\n",
            "         1.48231626e-01, -1.71541229e-01,  4.79659773e-02,\n",
            "         6.95545554e-01, -7.34554410e-01,  5.00819862e-01,\n",
            "        -8.43456626e-01],\n",
            "       [-5.33281922e-01,  5.26653945e-01,  1.57454126e-02,\n",
            "         1.46121949e-01,  2.76504960e-02, -8.91758129e-02,\n",
            "         4.62411702e-01,  5.36043644e-02,  2.31896397e-02,\n",
            "        -6.53083622e-01],\n",
            "       [ 3.93885463e-01,  2.22290620e-01, -8.66812587e-01,\n",
            "        -4.42612439e-01, -1.09500468e-01,  3.44947040e-01,\n",
            "         4.43797231e-01, -3.26241434e-01, -1.91667125e-01,\n",
            "         2.68693328e-01],\n",
            "       [ 5.09423316e-01, -1.10831499e+00, -6.63363814e-01,\n",
            "         6.10601194e-02,  4.62890774e-01,  2.16605678e-01,\n",
            "        -2.04363316e-01, -3.48413497e-01,  5.46411932e-01,\n",
            "         1.59806624e-01],\n",
            "       [ 5.03182411e-01, -4.58128005e-01, -1.23811312e-01,\n",
            "        -7.70608895e-03, -5.03727078e-01, -1.03737101e-01,\n",
            "        -6.97336435e-01,  8.40921402e-02,  9.15018559e-01,\n",
            "         4.06962276e-01],\n",
            "       [-3.36555511e-01,  2.32747003e-01, -6.51690245e-01,\n",
            "         1.92894682e-01,  4.90722917e-02,  4.82812226e-01,\n",
            "         5.17001033e-01, -3.74707580e-01, -7.26062572e-03,\n",
            "        -2.24724170e-02],\n",
            "       [-8.20727646e-01,  2.77037054e-01, -4.00716156e-01,\n",
            "        -6.01541400e-01,  5.41227221e-01, -1.07606472e-02,\n",
            "         1.13190107e-01, -7.11759388e-01,  7.47027993e-01,\n",
            "         3.95591497e-01],\n",
            "       [-9.64956045e-01,  6.50479198e-01,  1.57247171e-01,\n",
            "         1.21039891e+00, -6.58656538e-01, -2.88676590e-01,\n",
            "        -5.25724113e-01,  6.54611349e-01, -3.65922421e-01,\n",
            "         4.67684865e-02],\n",
            "       [-4.69699763e-02, -3.76960456e-01, -8.73867750e-01,\n",
            "        -2.19822064e-01,  6.68559313e-01,  5.76594114e-01,\n",
            "        -2.38980711e-01,  1.74888268e-01, -1.48410887e-01,\n",
            "         5.87270916e-01],\n",
            "       [ 3.56634349e-01, -5.18213026e-02,  9.20258999e-01,\n",
            "        -1.40335053e-01, -4.26269978e-01, -6.22207582e-01,\n",
            "         5.75894825e-02,  5.12691498e-01, -2.06441224e-01,\n",
            "        -2.68630385e-01],\n",
            "       [-3.19506019e-01,  2.53038436e-01,  1.83337316e-01,\n",
            "        -2.11295307e-01, -5.53449214e-01, -4.45205271e-01,\n",
            "        -1.75601929e-01,  4.42056775e-01,  6.44582987e-01,\n",
            "         2.00125635e-01],\n",
            "       [-7.43463695e-01,  2.60086924e-01, -1.95406988e-01,\n",
            "        -4.23818171e-01,  8.64849150e-01, -2.67847985e-01,\n",
            "        -1.79303423e-01, -4.71354812e-01,  5.73067427e-01,\n",
            "         3.13313872e-01],\n",
            "       [-2.63424993e-01, -2.83117831e-01, -2.91389525e-01,\n",
            "         5.06457686e-01,  7.84329653e-01, -5.26254058e-01,\n",
            "         7.48095810e-01, -4.18872535e-01, -8.39335993e-02,\n",
            "         2.52932400e-01],\n",
            "       [ 4.14991900e-02, -4.03793097e-01, -1.95395365e-01,\n",
            "         2.11023405e-01,  1.32343337e-01,  2.31272504e-01,\n",
            "        -1.18078411e+00,  1.86573476e-01,  7.68505335e-02,\n",
            "         3.85415733e-01],\n",
            "       [ 1.09860265e+00, -1.09753442e+00,  3.80715638e-01,\n",
            "        -6.38348997e-01, -1.58655971e-01,  1.94847152e-01,\n",
            "        -7.95399770e-02,  9.50471818e-01, -3.16824853e-01,\n",
            "        -2.83558935e-01],\n",
            "       [-2.77928740e-01,  2.24254742e-01, -3.28038484e-01,\n",
            "         2.36775950e-01,  4.65092897e-01,  1.14463799e-01,\n",
            "        -4.18108590e-02,  1.95581898e-01, -7.47340381e-01,\n",
            "        -2.79023498e-01],\n",
            "       [ 7.56891370e-02, -1.96978986e-01,  6.49631858e-01,\n",
            "         4.44254547e-01,  4.46472913e-01, -2.43867710e-01,\n",
            "         3.44643325e-01, -6.73000336e-01,  1.98133841e-01,\n",
            "        -7.13343263e-01],\n",
            "       [ 3.50795746e-01, -2.43827224e-01,  2.70755768e-01,\n",
            "        -1.88798487e-01,  2.67679513e-01, -2.67900437e-01,\n",
            "        -2.25820035e-01,  1.41538918e-01, -6.25311971e-01,\n",
            "        -7.91989092e-04],\n",
            "       [ 6.04720116e-01, -1.23945558e+00, -9.89200622e-02,\n",
            "        -8.47476780e-01,  1.88840643e-01,  1.78689778e-01,\n",
            "         3.30614984e-01,  2.13386491e-01,  1.40828237e-01,\n",
            "         5.96347034e-01],\n",
            "       [-1.29010156e-01, -4.19559628e-01,  8.10783267e-01,\n",
            "        -7.79421180e-02, -6.39355540e-01,  1.82476446e-01,\n",
            "         4.43780273e-02,  2.43306741e-01,  3.22627991e-01,\n",
            "        -6.96950316e-01],\n",
            "       [-2.65945554e-01,  2.54204452e-01, -2.81551868e-01,\n",
            "         3.05856839e-02,  3.32366735e-01, -2.72288859e-01,\n",
            "        -1.56741664e-01,  7.37876654e-01, -3.42516750e-01,\n",
            "        -3.38515751e-02],\n",
            "       [-2.21063226e-01, -1.61017135e-01, -3.43953133e-01,\n",
            "         7.71231763e-03,  3.99634361e-01,  4.22857910e-01,\n",
            "         1.07494044e+00,  1.67980686e-01, -5.57168424e-01,\n",
            "        -9.82021630e-01],\n",
            "       [-3.34168285e-01,  4.13684517e-01,  8.20092857e-02,\n",
            "         2.00068444e-01, -6.36684000e-01,  6.32712722e-01,\n",
            "         6.26974523e-01, -7.68007815e-01,  7.41086155e-02,\n",
            "        -7.47185767e-01],\n",
            "       [-1.13031104e-01,  2.84815133e-01,  4.20125455e-01,\n",
            "        -4.12524790e-01,  2.86876053e-01, -5.96397281e-01,\n",
            "        -6.13868050e-02, -2.01329246e-01,  1.37402400e-01,\n",
            "         4.73863035e-02],\n",
            "       [-8.77382278e-01,  7.03926206e-01, -5.87477982e-01,\n",
            "         8.03793550e-01, -5.38776457e-01,  8.71291935e-01,\n",
            "        -4.21437055e-01,  1.79496706e-01, -2.01206416e-01,\n",
            "         2.20881462e-01],\n",
            "       [ 4.79993403e-01, -3.88967425e-01,  6.42738879e-01,\n",
            "        -2.66709924e-01, -2.35347107e-01, -5.27117729e-01,\n",
            "         2.24357635e-01,  4.09907281e-01, -2.55028307e-01,\n",
            "        -3.98389012e-01],\n",
            "       [-2.36967623e-01,  2.08492681e-01,  4.95875329e-02,\n",
            "        -2.54601955e-01, -1.96262509e-01,  2.20791083e-02,\n",
            "         5.87105930e-01, -1.76071987e-01, -2.93505043e-01,\n",
            "        -6.90922514e-02],\n",
            "       [ 3.72552484e-01,  1.13524333e-01,  1.47908121e-01,\n",
            "        -5.87250233e-01, -5.45590937e-01,  2.20800832e-01,\n",
            "        -1.86717466e-01, -2.76110709e-01,  1.63341820e-01,\n",
            "         9.27756205e-02],\n",
            "       [ 6.91043854e-01, -7.39305258e-01,  3.66775483e-01,\n",
            "         2.29010403e-01, -2.62648702e-01, -3.35895628e-01,\n",
            "         4.16883469e-01, -4.66414630e-01, -4.81522113e-01,\n",
            "         5.41691422e-01],\n",
            "       [-5.42117991e-02,  8.16400051e-02, -2.16311708e-01,\n",
            "        -6.47027910e-01,  4.48576599e-01, -2.78799266e-01,\n",
            "         6.27859950e-01, -3.13865662e-01,  3.10088933e-01,\n",
            "         5.49431086e-01],\n",
            "       [-4.22955692e-01,  4.71692123e-02,  5.09801149e-01,\n",
            "        -4.14053082e-01,  1.48667157e-01, -1.13204829e-01,\n",
            "         1.46537170e-01, -8.12405765e-01,  7.64870703e-01,\n",
            "        -9.93795879e-03],\n",
            "       [-4.50043291e-01,  7.81999648e-01,  2.15509236e-01,\n",
            "        -3.13456476e-01, -4.41162616e-01, -8.88375938e-02,\n",
            "         1.30276158e-01, -7.62776807e-02,  4.38656509e-01,\n",
            "        -3.53991002e-01],\n",
            "       [-5.44507623e-01,  5.37671924e-01,  2.79337078e-01,\n",
            "         6.31389797e-01, -3.13700497e-01, -9.68888775e-02,\n",
            "        -8.03692937e-01,  3.23311478e-01,  5.13087690e-01,\n",
            "        -3.67015935e-02],\n",
            "       [ 1.07227898e+00, -3.73002291e-01, -3.47672790e-01,\n",
            "        -6.34944439e-01, -2.26390660e-01,  8.66467118e-01,\n",
            "        -1.20632663e-01,  1.60931930e-01, -2.61490524e-01,\n",
            "         3.17717306e-02]], dtype=float32), 'b3': array([-0.06023985,  0.00932628, -0.01359946,  0.02167128,  0.0107372 ,\n",
            "        0.06619699, -0.08397342, -0.00912251,  0.00576962,  0.0532335 ],\n",
            "      dtype=float32)}\n"
          ]
        }
      ]
    },
    {
      "cell_type": "code",
      "source": [
        "x, t = get_data()\n",
        "network = init_network()\n",
        "\n",
        "accuracy_cnt = 0\n",
        "for i in range(len(x)):\n",
        "    y = predict(network, x[i])\n",
        "    p = np.argmax(y)\n",
        "    if p == t[i]:\n",
        "        accuracy_cnt += 1\n",
        "\n",
        "print(\"Accuracy:\" +str(float(accuracy_cnt)/len(x)))"
      ],
      "metadata": {
        "id": "rjlwnQCQjDPd",
        "colab": {
          "base_uri": "https://localhost:8080/"
        },
        "outputId": "f64b7e3c-e0a6-482e-f70c-aa04d9f159ae"
      },
      "execution_count": null,
      "outputs": [
        {
          "output_type": "stream",
          "name": "stdout",
          "text": [
            "Accuracy:0.9352\n"
          ]
        }
      ]
    },
    {
      "cell_type": "markdown",
      "source": [
        "## バッチ処理"
      ],
      "metadata": {
        "id": "NNckpyPVrrNf"
      }
    },
    {
      "cell_type": "code",
      "source": [
        "x, _ = get_data()\n",
        "network = init_network()\n",
        "W1, W2, W3 = network['W1'], network['W2'], network['W3']\n",
        "\n",
        "print(f\"x.shape:{x.shape}\")\n",
        "print(f\"x[0].shape:{x[0].shape}\")\n",
        "print(f\"W1.shape:{W1.shape}\")\n",
        "print(f\"W2.shape:{W2.shape}\")\n",
        "print(f\"W3.shape:{W3.shape}\")"
      ],
      "metadata": {
        "colab": {
          "base_uri": "https://localhost:8080/"
        },
        "id": "cXeXHkdBnuwl",
        "outputId": "6cde21b3-8f77-4037-db63-76906fc0ebc9"
      },
      "execution_count": null,
      "outputs": [
        {
          "output_type": "stream",
          "name": "stdout",
          "text": [
            "x.shape:(10000, 784)\n",
            "x[0].shape:(784,)\n",
            "W1.shape:(784, 50)\n",
            "W2.shape:(50, 100)\n",
            "W3.shape:(100, 10)\n"
          ]
        }
      ]
    },
    {
      "cell_type": "markdown",
      "source": [
        "### バッチ数100で推論処理を実装する"
      ],
      "metadata": {
        "id": "mMw4shgJs8Qb"
      }
    },
    {
      "cell_type": "code",
      "source": [
        "x, t = get_data()\n",
        "network = init_network()\n",
        "\n",
        "batch_size = 100\n",
        "accuracy_cnt = 0\n",
        "\n",
        "for i in range(0, len(x), batch_size):\n",
        "    x_batch = x[i:i+batch_size]\n",
        "    y_batch = predict(network, x_batch)\n",
        "    p = np.argmax(y_batch, axis=1)\n",
        "    accuracy_cnt += np.sum(p == t[i:i+batch_size])"
      ],
      "metadata": {
        "id": "wIQQ2NxrsJgL"
      },
      "execution_count": null,
      "outputs": []
    },
    {
      "cell_type": "code",
      "source": [
        "print(accuracy_cnt / len(x))"
      ],
      "metadata": {
        "colab": {
          "base_uri": "https://localhost:8080/"
        },
        "id": "SquKeynXto51",
        "outputId": "f89f175b-15e1-4991-f427-e08e5de52b31"
      },
      "execution_count": null,
      "outputs": [
        {
          "output_type": "stream",
          "name": "stdout",
          "text": [
            "0.9352\n"
          ]
        }
      ]
    },
    {
      "cell_type": "code",
      "source": [],
      "metadata": {
        "id": "nUgpCaSAt_hl"
      },
      "execution_count": null,
      "outputs": []
    },
    {
      "cell_type": "markdown",
      "source": [
        "# ニューラルネットワークの学習"
      ],
      "metadata": {
        "id": "N393soUyHfv0"
      }
    },
    {
      "cell_type": "code",
      "source": [
        "import sys, os\n",
        "import numpy as np\n",
        "sys.path.append(os.pardir)\n",
        "from keras.datasets import mnist\n",
        "\n",
        "# MNISTデータセットをロード\n",
        "(X_train, t_train), (X_test, t_test) = mnist.load_data()\n",
        "\n",
        "# データをフラット化する\n",
        "X_train = X_train.reshape(X_train.shape[0], -1)/255\n",
        "X_test = X_test.reshape(X_test.shape[0], -1)/255\n",
        "\n",
        "\n",
        "# テストデータのラベルをone-hotエンコードする\n",
        "from keras.utils import to_categorical\n",
        "\n",
        "t_test = to_categorical(t_test)\n",
        "t_train = to_categorical(t_train)\n",
        "\n",
        "# データを正規化しない（そのまま使用）\n",
        "print(f\"X_train shape: {X_train.shape}, t_train shape: {t_train.shape}\")\n",
        "print(f\"X_test shape: {X_test.shape}, t_test shape: {t_test.shape}\")\n"
      ],
      "metadata": {
        "colab": {
          "base_uri": "https://localhost:8080/"
        },
        "id": "2eSO5N8yHjNh",
        "outputId": "e16bcda8-fa5a-4f10-8e64-6f34b4b7dfbb"
      },
      "execution_count": null,
      "outputs": [
        {
          "output_type": "stream",
          "name": "stdout",
          "text": [
            "X_train shape: (60000, 784), t_train shape: (60000, 10)\n",
            "X_test shape: (10000, 784), t_test shape: (10000, 10)\n"
          ]
        }
      ]
    },
    {
      "cell_type": "code",
      "source": [
        "train_size = X_train.shape[0]\n",
        "batch_size = 10\n",
        "batch_mask = np.random.choice(train_size, batch_size)\n",
        "X_batch = X_train[batch_mask]\n",
        "t_batch = t_train[batch_mask]"
      ],
      "metadata": {
        "id": "0-39VVYdIN_W"
      },
      "execution_count": null,
      "outputs": []
    },
    {
      "cell_type": "code",
      "source": [
        "batch_mask"
      ],
      "metadata": {
        "colab": {
          "base_uri": "https://localhost:8080/"
        },
        "id": "lsJIQxWhIif9",
        "outputId": "db00b27c-3071-4a27-f185-d92c6e46e649"
      },
      "execution_count": null,
      "outputs": [
        {
          "output_type": "execute_result",
          "data": {
            "text/plain": [
              "array([45683, 34675,  9061, 44754, 28991, 47207,  3272, 55262, 32961,\n",
              "        8888])"
            ]
          },
          "metadata": {},
          "execution_count": 11
        }
      ]
    },
    {
      "cell_type": "markdown",
      "source": [
        "## ☆バッチ対応版　交差エントロピー誤差の実装"
      ],
      "metadata": {
        "id": "GO2jMWBnLB99"
      }
    },
    {
      "cell_type": "markdown",
      "source": [
        "$$\n",
        "E = - \\frac{1}{N} \\Sigma_{n} \\Sigma_{k} t_{nk} \\log{y_{nk}}\n",
        "$$\n",
        "\n",
        "$$\n",
        "N:データ数\n",
        "$$\n",
        "\n",
        "$$\n",
        "t_{nk}:教師データ\n",
        "$$\n",
        "\n",
        "$$\n",
        "y_{nk}:ニューラルネットワークの出力\n",
        "$$\n"
      ],
      "metadata": {
        "id": "omjQb3lNMMGX"
      }
    },
    {
      "cell_type": "markdown",
      "source": [
        "## ☆One-hot表示における交差エントロピー誤差"
      ],
      "metadata": {
        "id": "9rfwm_wTN3bE"
      }
    },
    {
      "cell_type": "code",
      "source": [
        "def cross_entropy_error(y, t):\n",
        "    if y.ndim == 1:\n",
        "      t = t.reshape(1, t.size)\n",
        "      y = y.reshape(1, y.size)\n",
        "\n",
        "    batch_size = y.shape[0]\n",
        "    return -np.sum(t * np.log(y + 1e-7)) / batch_size"
      ],
      "metadata": {
        "id": "72e_7ychK7ID"
      },
      "execution_count": null,
      "outputs": []
    },
    {
      "cell_type": "markdown",
      "source": [
        "## ☆ラベル表示における交差エントロピー誤差"
      ],
      "metadata": {
        "id": "nUBv4lGRPIMF"
      }
    },
    {
      "cell_type": "code",
      "source": [
        "def cross_entropy_error(y, t):\n",
        "    if y.ndim == 1:\n",
        "        t = t.reshape(1, t.size)\n",
        "        y = y.reshape(1, y.size)\n",
        "\n",
        "    batch_size = y.shape[0]\n",
        "    return -np.sum(np.log(y[np.arange(batch_size), t] + 1e-7)) / batch_size"
      ],
      "metadata": {
        "id": "ocRtnZTSL0BT"
      },
      "execution_count": null,
      "outputs": []
    },
    {
      "cell_type": "markdown",
      "source": [
        "## 数値微分"
      ],
      "metadata": {
        "id": "3kusJkzSXiLA"
      }
    },
    {
      "cell_type": "markdown",
      "source": [
        "簡単な微分\n",
        "$$\n",
        "y=0.01x^2+0.1x\n",
        "$$"
      ],
      "metadata": {
        "id": "OFU025qKXmC_"
      }
    },
    {
      "cell_type": "code",
      "source": [
        "def numerical_diff(f, x):\n",
        "    h = 1e-4\n",
        "    return (f(x+h)-f(x-h))/ (2*h)"
      ],
      "metadata": {
        "id": "GGquq6X0YdS0"
      },
      "execution_count": null,
      "outputs": []
    },
    {
      "cell_type": "code",
      "source": [
        "def function_1(x):\n",
        "    return 0.01*x**2 + 0.1 * x"
      ],
      "metadata": {
        "id": "erwUcJNcXk1e"
      },
      "execution_count": null,
      "outputs": []
    },
    {
      "cell_type": "code",
      "source": [
        "import numpy as np\n",
        "import matplotlib.pylab as plt\n",
        "\n",
        "x = np.arange(0.0, 20.0, 0.1)\n",
        "y = function_1(x)\n",
        "plt.xlabel(\"x\")\n",
        "plt.ylabel(\"f(x)\")\n",
        "plt.plot(x, y)\n",
        "plt.show()"
      ],
      "metadata": {
        "colab": {
          "base_uri": "https://localhost:8080/",
          "height": 449
        },
        "id": "biKF-WK2X8PQ",
        "outputId": "592bb684-f14e-4f65-84e2-5097c9ae1445"
      },
      "execution_count": null,
      "outputs": [
        {
          "output_type": "display_data",
          "data": {
            "text/plain": [
              "<Figure size 640x480 with 1 Axes>"
            ],
            "image/png": "[encoded data removed]"
          },
          "metadata": {}
        }
      ]
    },
    {
      "cell_type": "code",
      "source": [
        "numerical_diff(function_1, 5)"
      ],
      "metadata": {
        "colab": {
          "base_uri": "https://localhost:8080/"
        },
        "id": "z049frvyYWxh",
        "outputId": "cf32c5f9-0a85-45d1-9cfd-ec57b30d0728"
      },
      "execution_count": null,
      "outputs": [
        {
          "output_type": "execute_result",
          "data": {
            "text/plain": [
              "0.1999999999990898"
            ]
          },
          "metadata": {},
          "execution_count": 22
        }
      ]
    },
    {
      "cell_type": "code",
      "source": [
        "numerical_diff(function_1, 10)"
      ],
      "metadata": {
        "colab": {
          "base_uri": "https://localhost:8080/"
        },
        "id": "sHeVArdYY4ZK",
        "outputId": "f18f903f-f3d2-4116-ead9-a456ebe966a2"
      },
      "execution_count": null,
      "outputs": [
        {
          "output_type": "execute_result",
          "data": {
            "text/plain": [
              "0.2999999999986347"
            ]
          },
          "metadata": {},
          "execution_count": 23
        }
      ]
    },
    {
      "cell_type": "markdown",
      "source": [
        "## 偏微分\n"
      ],
      "metadata": {
        "id": "Kz_BvVyroQIY"
      }
    },
    {
      "cell_type": "markdown",
      "source": [
        "$$\n",
        "f(x,y) = x^2 + y^2\n",
        "$$"
      ],
      "metadata": {
        "id": "0M3KZpHgoV9H"
      }
    },
    {
      "cell_type": "code",
      "source": [
        "import numpy as np\n",
        "def function_2(x,y):\n",
        "    return x**2 + y**2\n",
        "\n",
        "def function_3(x):\n",
        "    return x[0]**2 + x[1]**2\n"
      ],
      "metadata": {
        "id": "nv3tWXproSPO"
      },
      "execution_count": null,
      "outputs": []
    },
    {
      "cell_type": "code",
      "source": [
        "def numerical_diff(f, x):\n",
        "    h = 1e-4\n",
        "    return (f(x+h)-f(x-h))/ (2*h)"
      ],
      "metadata": {
        "id": "U6DpqwXhooeE"
      },
      "execution_count": null,
      "outputs": []
    },
    {
      "cell_type": "markdown",
      "source": [
        "$$\n",
        "{x = 3},{y= 4}のとき,{\\partial}f/{\\partial}xを求める\n",
        "$$"
      ],
      "metadata": {
        "id": "K8lAnrauo5LR"
      }
    },
    {
      "cell_type": "code",
      "source": [
        "def function_tmp1(x):\n",
        "    return x**2+4**2\n",
        "\n",
        "dfdx = numerical_diff(function_tmp1, 3)\n",
        "print(dfdx)"
      ],
      "metadata": {
        "colab": {
          "base_uri": "https://localhost:8080/"
        },
        "id": "D7G_wa1wo30f",
        "outputId": "c8557c6c-61ef-4ae6-a693-ecca99f228bc"
      },
      "execution_count": null,
      "outputs": [
        {
          "output_type": "stream",
          "name": "stdout",
          "text": [
            "6.00000000000378\n"
          ]
        }
      ]
    },
    {
      "cell_type": "markdown",
      "source": [
        "$$\n",
        "{x = 3},{y= 4}のとき,{\\partial}f/{\\partial}yを求める\n",
        "$$"
      ],
      "metadata": {
        "id": "MH8IqXxmqMOc"
      }
    },
    {
      "cell_type": "code",
      "source": [
        "def function_tmp2(y):\n",
        "    return 3**2 + y**2\n",
        "\n",
        "dfdy = numerical_diff(function_tmp2, 4)\n",
        "print(dfdy)"
      ],
      "metadata": {
        "colab": {
          "base_uri": "https://localhost:8080/"
        },
        "id": "uBMI0fGmqGHX",
        "outputId": "39af7a92-4add-41dd-8477-de501cbc7a5d"
      },
      "execution_count": null,
      "outputs": [
        {
          "output_type": "stream",
          "name": "stdout",
          "text": [
            "7.999999999999119\n"
          ]
        }
      ]
    },
    {
      "cell_type": "markdown",
      "source": [
        "## ☆空間微分"
      ],
      "metadata": {
        "id": "IsDw3WTXqrPl"
      }
    },
    {
      "cell_type": "markdown",
      "source": [
        "$$\n",
        "grad = \\frac {f(x + h) + f(x-h)}{2h}\n",
        "$$\n",
        "\n",
        "$$\n",
        "h = 1.0^{-4}\n",
        "$$"
      ],
      "metadata": {
        "id": "G-jKDAHqGaCu"
      }
    },
    {
      "cell_type": "code",
      "source": [
        "def numerical_grad(f, x):\n",
        "    h = 1e-4\n",
        "    grad = np.zeros_like(x) # xと同じ形状の配列を生成\n",
        "    for idx in range(x.size):\n",
        "        tmp_val = x[idx]\n",
        "\n",
        "        # f(x + h)の計算\n",
        "        x[idx] = tmp_val + h\n",
        "        fxh1 = f(x)\n",
        "\n",
        "        # f(x - h)の計算\n",
        "        x[idx] = tmp_val - h\n",
        "        fxh2 = f(x)\n",
        "\n",
        "        grad[idx] = (fxh1 - fxh2) / (2*h)\n",
        "        x[idx] = tmp_val # 値を元に戻す\n",
        "    return grad"
      ],
      "metadata": {
        "id": "GcTtjvq2qfxZ"
      },
      "execution_count": null,
      "outputs": []
    },
    {
      "cell_type": "code",
      "source": [
        "dfdx_dfdy = numerical_grad(function_3, np.array([3.0,4.0]))"
      ],
      "metadata": {
        "id": "gFtyIxlvrraJ"
      },
      "execution_count": null,
      "outputs": []
    },
    {
      "cell_type": "code",
      "source": [
        "print(dfdx_dfdy)"
      ],
      "metadata": {
        "colab": {
          "base_uri": "https://localhost:8080/"
        },
        "id": "Wq4mG28rsUpo",
        "outputId": "4000959f-9450-45b6-af11-7b4da5002f55"
      },
      "execution_count": null,
      "outputs": [
        {
          "output_type": "stream",
          "name": "stdout",
          "text": [
            "[6. 8.]\n"
          ]
        }
      ]
    },
    {
      "cell_type": "code",
      "source": [],
      "metadata": {
        "id": "FhGqYAcZsu91"
      },
      "execution_count": null,
      "outputs": []
    },
    {
      "cell_type": "markdown",
      "source": [
        "## 勾配法\n",
        "\n",
        "\n",
        "*   関数の極小値,最小値、鞍点(saddle point)では勾配が0となる\n",
        "*   **プラトー**:学習が進まない停滞期\n",
        "\n"
      ],
      "metadata": {
        "id": "V847EhR3wW5j"
      }
    },
    {
      "cell_type": "markdown",
      "source": [
        "$$\n",
        "x_0 = x_0 - η\\frac {∂f}{∂x_0}\n",
        "$$"
      ],
      "metadata": {
        "id": "kn7rdBxrxlpj"
      }
    },
    {
      "cell_type": "markdown",
      "source": [
        "$$\n",
        "x_1 = x_1 - η\\frac {∂f}{∂x_1}\n",
        "$$\n",
        "ステップ毎にxを変化させ関数の値を減らしていく"
      ],
      "metadata": {
        "id": "lbh59FHCyKmD"
      }
    },
    {
      "cell_type": "markdown",
      "source": [
        "$$\n",
        "η:学習率(learning　rate)\n",
        "$$"
      ],
      "metadata": {
        "id": "l-IMTcZjyKjL"
      }
    },
    {
      "cell_type": "markdown",
      "source": [
        "## 勾配降下法"
      ],
      "metadata": {
        "id": "0BX1FJWcy7xt"
      }
    },
    {
      "cell_type": "code",
      "source": [
        "import numpy as np\n",
        "\n",
        "def numerical_grad(f, x):\n",
        "    h = 1e-4\n",
        "    grad = np.zeros_like(x) # xと同じ形状の配列を生成\n",
        "    for idx in range(x.size):\n",
        "        tmp_val = x[idx]\n",
        "\n",
        "        # f(x + h)の計算\n",
        "        x[idx] = tmp_val + h\n",
        "        fxh1 = f(x)\n",
        "\n",
        "        # f(x - h)の計算\n",
        "        x[idx] = tmp_val - h\n",
        "        fxh2 = f(x)\n",
        "\n",
        "        grad[idx] = (fxh1 - fxh2) / (2*h)\n",
        "        x[idx] = tmp_val # 値を元に戻す\n",
        "    return grad\n",
        "\n",
        "def gradient_descent(f, init_x, lr=0.05, step_num=100):\n",
        "    x = init_x\n",
        "\n",
        "    for i in range(step_num):\n",
        "        grad = numerical_grad(f, x)\n",
        "        x -= lr * grad\n",
        "        #print(f\"step{i}, func{x}\")\n",
        "    return x"
      ],
      "metadata": {
        "id": "doLZx6WvyQpK"
      },
      "execution_count": null,
      "outputs": []
    },
    {
      "cell_type": "markdown",
      "source": [
        "次の関数の最小値を勾配法で求めよ"
      ],
      "metadata": {
        "id": "Eby-LcaSz0l8"
      }
    },
    {
      "cell_type": "markdown",
      "source": [
        "$$\n",
        "f(x_0, x_1) = x_0^2+x_1^2\n",
        "$$"
      ],
      "metadata": {
        "id": "fePWBSoNzsdF"
      }
    },
    {
      "cell_type": "code",
      "source": [
        "def function(x):\n",
        "    return x[0]**2+x[1]**2\n",
        "\n",
        "init = np.array([-3.0, 4.0])\n",
        "min = gradient_descent(function,init_x=init, lr=0.1, step_num=100)\n",
        "\n",
        "print(min)"
      ],
      "metadata": {
        "colab": {
          "base_uri": "https://localhost:8080/"
        },
        "id": "stWw69-2wgsO",
        "outputId": "1fad37a1-89bf-4587-d2da-c80bc5b41245"
      },
      "execution_count": null,
      "outputs": [
        {
          "output_type": "stream",
          "name": "stdout",
          "text": [
            "[-6.11110793e-10  8.14814391e-10]\n"
          ]
        }
      ]
    },
    {
      "cell_type": "markdown",
      "source": [
        "学習率が大きい場合 lr=10"
      ],
      "metadata": {
        "id": "iCgl2q_71E37"
      }
    },
    {
      "cell_type": "code",
      "source": [
        "init = np.array([-3.0, 4.0])\n",
        "min = gradient_descent(function,init_x=init, lr=10, step_num=100)\n",
        "print(min)"
      ],
      "metadata": {
        "colab": {
          "base_uri": "https://localhost:8080/"
        },
        "id": "d38TbRmA0fcM",
        "outputId": "c15d7185-176b-4d5f-ec7c-1e58937747c6"
      },
      "execution_count": null,
      "outputs": [
        {
          "output_type": "stream",
          "name": "stdout",
          "text": [
            "[-2.58983747e+13 -1.29524862e+12]\n"
          ]
        }
      ]
    },
    {
      "cell_type": "markdown",
      "source": [
        "学習率が小さすぎる場合 lr=1.0e-10"
      ],
      "metadata": {
        "id": "S3m_I2B31TVc"
      }
    },
    {
      "cell_type": "code",
      "source": [
        "init = np.array([-3.0, 4.0])\n",
        "min = gradient_descent(function,init_x=init, lr=1e-10, step_num=100)\n",
        "print(min)"
      ],
      "metadata": {
        "colab": {
          "base_uri": "https://localhost:8080/"
        },
        "id": "QGJrSRIS1Lmx",
        "outputId": "8385c9ea-21a3-443c-ef92-54f8b9063246"
      },
      "execution_count": null,
      "outputs": [
        {
          "output_type": "stream",
          "name": "stdout",
          "text": [
            "[-2.99999994  3.99999992]\n"
          ]
        }
      ]
    },
    {
      "cell_type": "markdown",
      "source": [
        "**適切な学習率を設定しなければならない**"
      ],
      "metadata": {
        "id": "oYGguBPY1wcF"
      }
    },
    {
      "cell_type": "markdown",
      "source": [
        "## ニューラルネットワークに対する勾配"
      ],
      "metadata": {
        "id": "55Uzqzq5RVjs"
      }
    },
    {
      "cell_type": "markdown",
      "source": [
        "形状2x3の重みWだけを持つニューラルネットワークがあり、\n",
        "損失関数Lであらわす場合を考える"
      ],
      "metadata": {
        "id": "nK4Kgbc8RcwC"
      }
    },
    {
      "cell_type": "markdown",
      "source": [
        "この時の勾配は\n",
        "$$\n",
        "\\frac {∂L}{∂W}\n",
        "$$"
      ],
      "metadata": {
        "id": "h9nabeGnRoJ4"
      }
    },
    {
      "cell_type": "markdown",
      "source": [
        "$$\n",
        "W= \\begin{pmatrix}\n",
        "w_{11} & w_{12} & w_{13} \\\\\n",
        "w_{21} & w_{22} & w_{23}\n",
        "\\end{pmatrix}\n",
        "$$\n",
        "\n",
        "$$\n",
        "\\frac {\\partial L}{\\partial W}= \\begin{pmatrix}\n",
        "\\frac {\\partial L}{w_{11}} & \\frac {\\partial L}{w_{12}} &\\frac {\\partial L}{ w_{13}} \\\\\n",
        "\\frac {\\partial L}{w_{21}} & \\frac {\\partial L}{w_{22}} & \\frac {\\partial L}{w_{23}}\n",
        "\\end{pmatrix}\n",
        "$$\n"
      ],
      "metadata": {
        "id": "1o40KBgkR4Hy"
      }
    },
    {
      "cell_type": "code",
      "source": [
        "# 勾配を求める\n",
        "import sys, os\n",
        "sys.path.append(os.pardir)\n",
        "import numpy as np\n",
        "# coding: utf-8\n",
        "import numpy as np\n",
        "\n",
        "\n",
        "def identity_function(x):\n",
        "    return x\n",
        "\n",
        "\n",
        "def step_function(x):\n",
        "    return np.array(x > 0, dtype=np.int)\n",
        "\n",
        "\n",
        "def sigmoid(x):\n",
        "    return 1 / (1 + np.exp(-x))\n",
        "\n",
        "\n",
        "def sigmoid_grad(x):\n",
        "    return (1.0 - sigmoid(x)) * sigmoid(x)\n",
        "\n",
        "\n",
        "def relu(x):\n",
        "    return np.maximum(0, x)\n",
        "\n",
        "\n",
        "def relu_grad(x):\n",
        "    grad = np.zeros_like(x)\n",
        "    grad[x>=0] = 1\n",
        "    return grad\n",
        "\n",
        "\n",
        "def softmax(x):\n",
        "    x = x - np.max(x, axis=-1, keepdims=True)   # オーバーフロー対策\n",
        "    return np.exp(x) / np.sum(np.exp(x), axis=-1, keepdims=True)\n",
        "\n",
        "\n",
        "def sum_squared_error(y, t):\n",
        "    return 0.5 * np.sum((y-t)**2)\n",
        "\n",
        "\n",
        "def cross_entropy_error(y, t):\n",
        "    if y.ndim == 1:\n",
        "        t = t.reshape(1, t.size)\n",
        "        y = y.reshape(1, y.size)\n",
        "\n",
        "    # 教師データがone-hot-vectorの場合、正解ラベルのインデックスに変換\n",
        "    if t.size == y.size:\n",
        "        t = t.argmax(axis=1)\n",
        "\n",
        "    batch_size = y.shape[0]\n",
        "    return -np.sum(np.log(y[np.arange(batch_size), t] + 1e-7)) / batch_size\n",
        "\n",
        "\n",
        "def softmax_loss(X, t):\n",
        "    y = softmax(X)\n",
        "    return cross_entropy_error(y, t)\n",
        "# -------------------------------------------------------------------------------\n",
        "#from common.functions import softmax, cross_entropy_error\n",
        "#from common.gradient import numerical_gradient"
      ],
      "metadata": {
        "id": "8uv0vXnzRYk5"
      },
      "execution_count": null,
      "outputs": []
    },
    {
      "cell_type": "code",
      "source": [
        "# coding: utf-8\n",
        "import numpy as np\n",
        "\n",
        "def _numerical_gradient_1d(f, x):\n",
        "    h = 1e-4 # 0.0001\n",
        "    grad = np.zeros_like(x)\n",
        "\n",
        "    for idx in range(x.size):\n",
        "        tmp_val = x[idx]\n",
        "        x[idx] = float(tmp_val) + h\n",
        "        fxh1 = f(x) # f(x+h)\n",
        "\n",
        "        x[idx] = tmp_val - h\n",
        "        fxh2 = f(x) # f(x-h)\n",
        "        grad[idx] = (fxh1 - fxh2) / (2*h)\n",
        "\n",
        "        x[idx] = tmp_val # 値を元に戻す\n",
        "\n",
        "    return grad\n",
        "\n",
        "\n",
        "def numerical_gradient_2d(f, X):\n",
        "    if X.ndim == 1:\n",
        "        return _numerical_gradient_1d(f, X)\n",
        "    else:\n",
        "        grad = np.zeros_like(X)\n",
        "\n",
        "        for idx, x in enumerate(X):\n",
        "            grad[idx] = _numerical_gradient_1d(f, x)\n",
        "\n",
        "        return grad\n",
        "\n",
        "\n",
        "def numerical_gradient(f, x):\n",
        "    h = 1e-4 # 0.0001\n",
        "    grad = np.zeros_like(x)\n",
        "\n",
        "    it = np.nditer(x, flags=['multi_index'], op_flags=['readwrite'])\n",
        "    while not it.finished:\n",
        "        idx = it.multi_index\n",
        "        tmp_val = x[idx]\n",
        "        x[idx] = tmp_val + h\n",
        "        fxh1 = f(x) # f(x+h)\n",
        "\n",
        "        x[idx] = tmp_val - h\n",
        "        fxh2 = f(x) # f(x-h)\n",
        "        grad[idx] = (fxh1 - fxh2) / (2*h)\n",
        "\n",
        "        x[idx] = tmp_val # 値を元に戻す\n",
        "        it.iternext()\n",
        "\n",
        "    return grad"
      ],
      "metadata": {
        "id": "eIRRxwDKbsJD"
      },
      "execution_count": null,
      "outputs": []
    },
    {
      "cell_type": "code",
      "source": [
        "class simpleNet:\n",
        "    def __init__(self):\n",
        "        self.W = np.random.randn(2, 3) # Gaussion\n",
        "    def predict(self, x):\n",
        "        return np.dot(x ,self.W)\n",
        "    def loss(self, x, t):\n",
        "        z = self.predict(x)\n",
        "        y = softmax(z)\n",
        "        loss = cross_entropy_error(y, t)\n",
        "        return loss"
      ],
      "metadata": {
        "id": "445d6rJ5TNn2"
      },
      "execution_count": null,
      "outputs": []
    },
    {
      "cell_type": "code",
      "source": [
        "net = simpleNet()\n",
        "print(net.W) # Weight parameters"
      ],
      "metadata": {
        "colab": {
          "base_uri": "https://localhost:8080/"
        },
        "id": "wOBvFEjfamyR",
        "outputId": "17adb218-f766-4088-83d7-85adb05bc414"
      },
      "execution_count": null,
      "outputs": [
        {
          "output_type": "stream",
          "name": "stdout",
          "text": [
            "[[ 0.18812885 -0.60931076  0.77554795]\n",
            " [-0.99603944 -0.29853997  0.49960944]]\n"
          ]
        }
      ]
    },
    {
      "cell_type": "code",
      "source": [
        "x = np.array([0.6, 0.9])\n",
        "p = net.predict(x)\n",
        "print(p)"
      ],
      "metadata": {
        "colab": {
          "base_uri": "https://localhost:8080/"
        },
        "id": "lsblWcVcas-r",
        "outputId": "33113a49-1e2a-45ec-e46e-f96fc9ada067"
      },
      "execution_count": null,
      "outputs": [
        {
          "output_type": "stream",
          "name": "stdout",
          "text": [
            "[-0.78355819 -0.63427243  0.91497727]\n"
          ]
        }
      ]
    },
    {
      "cell_type": "code",
      "source": [
        "np.argmax(p)"
      ],
      "metadata": {
        "colab": {
          "base_uri": "https://localhost:8080/"
        },
        "id": "3sjUsDhFa8oU",
        "outputId": "875a1e6d-1682-4754-a056-6bc068c86dad"
      },
      "execution_count": null,
      "outputs": [
        {
          "output_type": "execute_result",
          "data": {
            "text/plain": [
              "2"
            ]
          },
          "metadata": {},
          "execution_count": 18
        }
      ]
    },
    {
      "cell_type": "code",
      "source": [
        "# true label\n",
        "t = np.array([0, 0, 1])\n",
        "\n",
        "# cross entropy error\n",
        "net.loss(x, t)"
      ],
      "metadata": {
        "colab": {
          "base_uri": "https://localhost:8080/"
        },
        "id": "vGeDfpt7bBfE",
        "outputId": "3b034a75-1290-492d-df78-3d4a6fc821f3"
      },
      "execution_count": null,
      "outputs": [
        {
          "output_type": "execute_result",
          "data": {
            "text/plain": [
              "0.33315127018814916"
            ]
          },
          "metadata": {},
          "execution_count": 19
        }
      ]
    },
    {
      "cell_type": "code",
      "source": [
        "# 続いて1回目の勾配を求めます\n",
        "def f(W):\n",
        "    return net.loss(x, t)\n",
        "\n",
        "dW = numerical_gradient(f, net.W)\n",
        "print(dW)"
      ],
      "metadata": {
        "colab": {
          "base_uri": "https://localhost:8080/"
        },
        "id": "CF3Oqt4dbOdU",
        "outputId": "e621691f-9ff8-48d9-f67c-7d19fc0a7135"
      },
      "execution_count": null,
      "outputs": [
        {
          "output_type": "stream",
          "name": "stdout",
          "text": [
            "[[ 0.07866849  0.09133448 -0.17000297]\n",
            " [ 0.11800273  0.13700173 -0.25500446]]\n"
          ]
        }
      ]
    },
    {
      "cell_type": "markdown",
      "source": [
        "~~~python\n",
        "dW = numerical_gradient(f, net.W)\n",
        "print(dW)\n",
        "~~~\n",
        "上記を実行して,\n",
        "~~~\n",
        "[[ 0.07866849  0.09133448 -0.17000297]\n",
        " [ 0.11800273  0.13700173 -0.25500446]]\n",
        " ~~~\n",
        " の場合,\n",
        " $$\n",
        " \\frac {∂L}{∂W}なので\n",
        " $$\n",
        "\n",
        " $$\n",
        " \\frac {∂L}{∂W_{11}}=0.07\n",
        " $$\n",
        "\n",
        " $$\n",
        " \\frac {∂L}{∂W_{23}}=-0.25\n",
        " $$\n",
        "であることから\n",
        " $$\n",
        " \\frac {∂L}{∂W_{23}}\n",
        " $$\n",
        "を更新する方がインパクトがある\n",
        "また、$$∂L/∂W_{23}$$を0.25h更新するとLossが小さくなる\n",
        "また、$$∂L/∂W_{11}$$を-0.07h更新するとLossが小さくなる\n"
      ],
      "metadata": {
        "id": "_kKpjrjudDs1"
      }
    },
    {
      "cell_type": "markdown",
      "source": [
        "## ☆lamdaによる関数定義"
      ],
      "metadata": {
        "id": "JyafBXg8ekq0"
      }
    },
    {
      "cell_type": "code",
      "source": [
        "f = lambda w: net.loss(x ,t)\n",
        "dW = numerical_gradient(f, net.W)\n",
        "print(dW)"
      ],
      "metadata": {
        "colab": {
          "base_uri": "https://localhost:8080/"
        },
        "id": "g9UkPYGrcCh0",
        "outputId": "4dd918f7-5f1f-4b02-df6e-bbe90e268410"
      },
      "execution_count": null,
      "outputs": [
        {
          "output_type": "stream",
          "name": "stdout",
          "text": [
            "[[ 0.07866849  0.09133448 -0.17000297]\n",
            " [ 0.11800273  0.13700173 -0.25500446]]\n"
          ]
        }
      ]
    },
    {
      "cell_type": "markdown",
      "source": [
        "上記のlambda表記は下記と同じになる\n",
        "~~~python\n",
        "def f(W):\n",
        "    return net.loss(x, t)\n",
        "\n",
        "dW = numerical_gradient(f, net.W)\n",
        "~~~"
      ],
      "metadata": {
        "id": "hUcdzjlkfD-w"
      }
    },
    {
      "cell_type": "markdown",
      "source": [
        "# 学習アルゴリズムの実装"
      ],
      "metadata": {
        "id": "_JA_zCt99lvY"
      }
    },
    {
      "cell_type": "markdown",
      "source": [
        " * STEP1 ミニバッチ:教師データからランダムにデータを抽出(ミニバッチ). ミニバッチ毎にLoss関数の値を小さくすることを目的にする\n",
        "\n",
        " * STEP2 勾配の算出:ミニバッチのLoss関数値を小さくするために各重みパラメータの勾配を求める\n",
        "\n",
        "\n",
        " * STEP3 パラメータ更新：重みパラメータを勾配方向に微小量だけ更新する\n",
        "\n",
        "\n",
        " * STEP4 くりかえり：STEP1,2,3を繰り返す"
      ],
      "metadata": {
        "id": "bMQ9MqHO9rfv"
      }
    },
    {
      "cell_type": "markdown",
      "source": [
        "※無作為にデータを抽出していることから,**確率的勾配降下法 (Stochactic Gradient Descent)**と呼ぶ"
      ],
      "metadata": {
        "id": "pmhWfKLN_SuY"
      }
    },
    {
      "cell_type": "markdown",
      "source": [
        "## 2層のニューラルネットワークのクラス"
      ],
      "metadata": {
        "id": "TkSdi7N8_pJW"
      }
    },
    {
      "cell_type": "code",
      "source": [
        "import numpy as np\n",
        "import sys, os\n",
        "#sys.path.append(os.dir)\n",
        "\n",
        "class TwoLayerNet:\n",
        "    def __init__(self, input_size, hidden_size, output_size,\n",
        "                 weight_init_std=0.01):\n",
        "      # weghts Initialization\n",
        "      self.params = {}\n",
        "      self.params['W1'] = weight_init_std * \\\n",
        "                          np.random.randn(input_size, hidden_size)\n",
        "      self.params['b1'] = np.zeros(hidden_size)\n",
        "      self.params['W2'] = weight_init_std * \\\n",
        "                          np.random.randn(hidden_size, output_size)\n",
        "      self.params['b2'] = np.zeros(output_size)\n",
        "\n",
        "    def predict(self, x):\n",
        "        W1, W2 = self.params['W1'], self.params['W2']\n",
        "        b1, b2 = self.params['b1'], self.params['b2']\n",
        "\n",
        "        a1 = np.dot(x, W1) + b1\n",
        "        z1 = sigmoid(a1)\n",
        "        a2 = np.dot(z1, W2) + b2\n",
        "        y = softmax(a2)\n",
        "\n",
        "        return y\n",
        "\n",
        "    # x:input data t:true data\n",
        "    def loss(self, x, t):\n",
        "        y = self.predict(x)\n",
        "        return cross_entropy_error(y, t)\n",
        "\n",
        "    def accuracy(self, x, t):\n",
        "        y = self.predict(x)\n",
        "        y = np.argmax(y, axis=1)\n",
        "        t = np.argmax(t, axis=1)\n",
        "\n",
        "        accuracy = np.sum( y == t) / float(x.shape[0])\n",
        "        return accuracy\n",
        "\n",
        "    def numerical_gradient(self, x, t):\n",
        "        loss_W = lambda W: self.loss(x, t)\n",
        "\n",
        "        grads = {}\n",
        "        grads['W1'] = numerical_gradient(loss_W, self.params['W1'])\n",
        "        grads['b1'] = numerical_gradient(loss_W, self.params['b1'])\n",
        "        grads['W2'] = numerical_gradient(loss_W, self.params['W2'])\n",
        "        grads['b2'] = numerical_gradient(loss_W, self.params['b2'])\n",
        "\n",
        "        return grads\n",
        "\n"
      ],
      "metadata": {
        "id": "EdI0j0uXe9OQ"
      },
      "execution_count": null,
      "outputs": []
    },
    {
      "cell_type": "code",
      "source": [
        "net = TwoLayerNet(input_size=784, hidden_size=100, output_size=10)\n",
        "print(net.params['W1'].shape)\n",
        "print(net.params['b1'].shape)\n",
        "print(net.params['W2'].shape)\n",
        "print(net.params['b2'].shape)\n"
      ],
      "metadata": {
        "colab": {
          "base_uri": "https://localhost:8080/"
        },
        "id": "KC2-Ge-FDRr3",
        "outputId": "7f9939a9-9f95-4a71-f6e0-65f3be37068d"
      },
      "execution_count": null,
      "outputs": [
        {
          "output_type": "stream",
          "name": "stdout",
          "text": [
            "(784, 100)\n",
            "(100,)\n",
            "(100, 10)\n",
            "(10,)\n"
          ]
        }
      ]
    },
    {
      "cell_type": "code",
      "source": [
        "net.params['W1']"
      ],
      "metadata": {
        "colab": {
          "base_uri": "https://localhost:8080/"
        },
        "id": "r4BJUdYTEPpj",
        "outputId": "105f8d19-3682-4dca-9e27-87797b3235ad"
      },
      "execution_count": null,
      "outputs": [
        {
          "output_type": "execute_result",
          "data": {
            "text/plain": [
              "array([[ 0.00446855, -0.00395728, -0.01618994, ..., -0.0056047 ,\n",
              "        -0.0061    ,  0.00279019],\n",
              "       [ 0.01160916, -0.01509885, -0.0160556 , ..., -0.00214654,\n",
              "        -0.0104748 ,  0.01407492],\n",
              "       [ 0.01561211,  0.00862223,  0.00241375, ..., -0.01188218,\n",
              "        -0.00851219,  0.00057541],\n",
              "       ...,\n",
              "       [-0.01298242, -0.01575393, -0.01445989, ...,  0.00214694,\n",
              "         0.00084185, -0.00346373],\n",
              "       [ 0.01301772,  0.00259195, -0.00161692, ..., -0.00476061,\n",
              "         0.00721042, -0.00649785],\n",
              "       [ 0.00162193,  0.01694295,  0.00563494, ..., -0.00222237,\n",
              "        -0.02675795,  0.01206792]])"
            ]
          },
          "metadata": {},
          "execution_count": 19
        }
      ]
    },
    {
      "cell_type": "code",
      "source": [
        "x = np.random.rand(100, 784)\n",
        "y = net.predict(x)\n",
        "\n",
        "t = np.random.rand(100, 10)"
      ],
      "metadata": {
        "id": "KYwHUT_UEemF"
      },
      "execution_count": null,
      "outputs": []
    },
    {
      "cell_type": "code",
      "source": [
        "x = np.random.rand(100, 784)\n",
        "t = np.random.rand(100, 10)\n",
        "grads = net.numerical_gradient(x, t)"
      ],
      "metadata": {
        "id": "qdqkDN8yEr3x"
      },
      "execution_count": null,
      "outputs": []
    },
    {
      "cell_type": "code",
      "source": [
        "grads"
      ],
      "metadata": {
        "colab": {
          "base_uri": "https://localhost:8080/"
        },
        "id": "S4Ojv2qPLbo8",
        "outputId": "a575a21a-6f01-4094-8bd9-4415899add27"
      },
      "execution_count": null,
      "outputs": [
        {
          "output_type": "execute_result",
          "data": {
            "text/plain": [
              "{'W1': array([[-3.93534116e-04,  1.34494647e-04, -1.15448353e-04, ...,\n",
              "          1.66298901e-04,  1.01724313e-04,  8.16497359e-05],\n",
              "        [-3.44815032e-04,  1.49965531e-04, -6.52833765e-05, ...,\n",
              "          1.56210509e-04,  1.30676994e-04,  1.38755856e-04],\n",
              "        [-2.62445201e-04,  2.05245516e-04, -2.90263880e-04, ...,\n",
              "          1.96186347e-04,  5.15756104e-06,  2.61635846e-05],\n",
              "        ...,\n",
              "        [-2.47840506e-04,  1.29104412e-04, -1.12336440e-04, ...,\n",
              "          1.70239036e-04,  1.12177592e-04,  3.08201376e-05],\n",
              "        [-2.63992275e-04,  1.73565562e-05, -5.14143039e-05, ...,\n",
              "          8.16655987e-05,  1.18106194e-04,  2.38084996e-05],\n",
              "        [-3.10866506e-04,  8.23105273e-05, -1.70057637e-04, ...,\n",
              "          9.83721882e-05,  1.50243189e-04,  1.09999727e-04]]),\n",
              " 'b1': array([-6.02650276e-04,  2.34967494e-04, -2.56866466e-04, -3.48013345e-04,\n",
              "         2.70958100e-04, -2.34635888e-05,  7.15956183e-07,  3.41562767e-04,\n",
              "         1.30765130e-04,  1.40026657e-06,  1.48571258e-04, -2.13325635e-04,\n",
              "         7.36370631e-05, -3.71625248e-04, -1.82971809e-04,  1.64149050e-05,\n",
              "        -2.17754681e-05,  2.39903009e-05, -1.58003688e-04, -3.42775819e-04,\n",
              "        -1.23342425e-04, -3.55243419e-04,  2.45447622e-04, -1.62377607e-04,\n",
              "        -7.59928453e-05, -3.01337482e-04, -4.16171706e-04, -3.15686013e-04,\n",
              "         5.73080103e-04,  1.96055336e-04,  8.31977820e-06,  3.06482715e-04,\n",
              "        -1.94147447e-04,  6.63313626e-06,  4.25140187e-04, -1.51812045e-04,\n",
              "        -5.71894176e-05,  1.00376725e-04,  3.57865422e-04,  2.96310316e-04,\n",
              "        -2.39447877e-04,  3.13492254e-05,  1.60726141e-04, -3.22408744e-05,\n",
              "         4.20531676e-04, -3.02485272e-04, -4.26890656e-05,  4.71825854e-04,\n",
              "        -2.84447546e-04,  2.14942135e-04,  2.15670117e-04,  4.21843671e-04,\n",
              "         8.11532819e-05,  4.44929649e-05,  6.61991573e-05, -4.24691082e-05,\n",
              "         2.54890438e-04,  5.88882820e-04, -3.86941807e-04, -8.88482221e-05,\n",
              "        -3.23975922e-04, -3.63225650e-05, -1.54652680e-04,  2.45525460e-04,\n",
              "        -1.84860358e-04,  3.48262501e-04,  2.19333876e-04, -4.36521153e-04,\n",
              "         1.91559077e-04,  3.89026322e-04,  5.17110474e-04, -2.65194866e-04,\n",
              "        -1.18547621e-04,  3.26151217e-04, -3.84839887e-04, -4.00721138e-04,\n",
              "        -5.38029421e-05, -1.41482492e-05,  1.99743526e-04,  1.96381105e-04,\n",
              "         3.94918656e-04, -4.21640867e-04,  3.91810036e-04,  4.72802599e-04,\n",
              "        -2.94518128e-04, -1.53621369e-04,  3.20105191e-04,  4.39060726e-04,\n",
              "         3.83612029e-04,  5.71453784e-04,  9.86476634e-04,  6.97471636e-05,\n",
              "         3.61547428e-04, -2.77047854e-04, -4.33736875e-04, -2.41002289e-04,\n",
              "         6.17262796e-05,  2.76264362e-04,  1.37677532e-04,  1.75471242e-04]),\n",
              " 'W2': array([[-2.09160040e-02, -1.03841283e-03,  1.81581145e-02,\n",
              "          1.82874014e-02,  6.47999907e-03,  3.48152854e-02,\n",
              "         -1.42567250e-02, -3.12106938e-02,  8.23310169e-04,\n",
              "         -1.11422748e-02],\n",
              "        [-2.28850588e-02, -4.36823955e-05,  2.04735885e-02,\n",
              "          1.95255687e-02,  6.23106458e-03,  3.79481386e-02,\n",
              "         -1.38073873e-02, -3.48364666e-02,  7.52048996e-04,\n",
              "         -1.33578140e-02],\n",
              "        [-2.06731902e-02, -1.53012733e-03,  1.77974796e-02,\n",
              "          1.76984104e-02,  6.37334439e-03,  3.47402470e-02,\n",
              "         -1.22252535e-02, -3.10509039e-02,  1.87347677e-03,\n",
              "         -1.30034831e-02],\n",
              "        [-1.97550207e-02, -1.42282403e-03,  1.81111627e-02,\n",
              "          1.77411111e-02,  6.47678224e-03,  3.54837010e-02,\n",
              "         -1.40697310e-02, -3.11335617e-02, -8.27551405e-05,\n",
              "         -1.13488643e-02],\n",
              "        [-2.14956977e-02, -2.56106918e-03,  2.09865161e-02,\n",
              "          2.05660973e-02,  6.83544415e-03,  4.03441771e-02,\n",
              "         -1.57913529e-02, -3.72977113e-02,  1.26888261e-03,\n",
              "         -1.28552859e-02],\n",
              "        [-2.25327729e-02, -3.86375436e-04,  2.02827800e-02,\n",
              "          1.98837711e-02,  7.06601195e-03,  3.86968545e-02,\n",
              "         -1.50518963e-02, -3.52026580e-02,  5.62451656e-04,\n",
              "         -1.33181664e-02],\n",
              "        [-1.87191932e-02,  2.80163288e-04,  1.82594198e-02,\n",
              "          1.77329380e-02,  6.36015214e-03,  3.45331161e-02,\n",
              "         -1.44297222e-02, -3.14605526e-02, -3.70702646e-05,\n",
              "         -1.25192509e-02],\n",
              "        [-2.02954796e-02, -2.05521000e-03,  1.88065329e-02,\n",
              "          1.84727070e-02,  6.63165573e-03,  3.64747819e-02,\n",
              "         -1.35617277e-02, -3.27628961e-02,  6.43578555e-04,\n",
              "         -1.23539425e-02],\n",
              "        [-1.91106565e-02, -6.66222597e-04,  1.71096153e-02,\n",
              "          1.73184134e-02,  6.43488753e-03,  3.44518160e-02,\n",
              "         -1.12824380e-02, -3.24098995e-02,  3.81513510e-04,\n",
              "         -1.22270289e-02],\n",
              "        [-2.13418093e-02, -1.19030840e-03,  1.90865561e-02,\n",
              "          1.95532957e-02,  5.70794780e-03,  3.69524948e-02,\n",
              "         -1.36369825e-02, -3.32144258e-02,  4.88510237e-04,\n",
              "         -1.24052786e-02],\n",
              "        [-2.20806886e-02, -4.04072305e-04,  1.97477887e-02,\n",
              "          1.96968611e-02,  6.42213254e-03,  3.74981882e-02,\n",
              "         -1.50961435e-02, -3.30554998e-02,  5.31800088e-04,\n",
              "         -1.32603662e-02],\n",
              "        [-1.89296780e-02, -1.06510146e-03,  1.83168758e-02,\n",
              "          1.75878211e-02,  5.62066395e-03,  3.44302043e-02,\n",
              "         -1.33925675e-02, -3.07962674e-02,  6.46786007e-04,\n",
              "         -1.24187366e-02],\n",
              "        [-2.20280843e-02, -4.35913163e-04,  1.90479613e-02,\n",
              "          1.97955353e-02,  7.76604347e-03,  3.87304112e-02,\n",
              "         -1.57562760e-02, -3.57739937e-02,  1.73245593e-03,\n",
              "         -1.30781398e-02],\n",
              "        [-2.15127303e-02, -1.42861571e-03,  1.93626465e-02,\n",
              "          1.94347896e-02,  6.58900071e-03,  3.95950582e-02,\n",
              "         -1.56991638e-02, -3.32447947e-02,  6.00349015e-05,\n",
              "         -1.31562253e-02],\n",
              "        [-1.93034703e-02, -3.23005411e-04,  1.81986037e-02,\n",
              "          1.72544132e-02,  6.04185294e-03,  3.40131543e-02,\n",
              "         -1.35092238e-02, -3.19805596e-02,  1.27040962e-03,\n",
              "         -1.16621746e-02],\n",
              "        [-2.07664558e-02,  4.35620704e-04,  1.86250440e-02,\n",
              "          1.99755091e-02,  6.16795739e-03,  3.64027490e-02,\n",
              "         -1.29869490e-02, -3.43586663e-02, -3.22031544e-04,\n",
              "         -1.31727775e-02],\n",
              "        [-1.82867539e-02, -8.09398497e-04,  1.86769417e-02,\n",
              "          1.79635967e-02,  5.09418152e-03,  3.49067752e-02,\n",
              "         -1.42313785e-02, -3.26958159e-02,  6.41583280e-04,\n",
              "         -1.12597315e-02],\n",
              "        [-2.16603802e-02, -1.03477460e-03,  1.96164080e-02,\n",
              "          1.83538497e-02,  5.52506392e-03,  3.81691190e-02,\n",
              "         -1.34881992e-02, -3.28440852e-02,  1.13517113e-03,\n",
              "         -1.37721723e-02],\n",
              "        [-2.28043368e-02, -6.08532558e-06,  2.04999532e-02,\n",
              "          1.97629588e-02,  6.05990703e-03,  3.98725206e-02,\n",
              "         -1.53420449e-02, -3.57076394e-02,  1.69800592e-03,\n",
              "         -1.40332389e-02],\n",
              "        [-2.07800414e-02, -2.08877278e-04,  1.85271276e-02,\n",
              "          1.83779153e-02,  5.96755591e-03,  3.39689456e-02,\n",
              "         -1.48108663e-02, -3.02604920e-02, -2.67336620e-05,\n",
              "         -1.07545338e-02],\n",
              "        [-1.88905503e-02,  1.58990987e-04,  1.79197417e-02,\n",
              "          1.79652368e-02,  5.32049149e-03,  3.43219866e-02,\n",
              "         -1.38835034e-02, -3.12516417e-02,  2.39264044e-04,\n",
              "         -1.19000161e-02],\n",
              "        [-2.01496667e-02, -3.67778867e-04,  1.90545062e-02,\n",
              "          1.81684859e-02,  5.55343491e-03,  3.59187049e-02,\n",
              "         -1.43722887e-02, -3.22311260e-02,  4.22112751e-04,\n",
              "         -1.19963843e-02],\n",
              "        [-2.39163906e-02,  2.64859792e-04,  2.14178007e-02,\n",
              "          2.09783045e-02,  6.90114271e-03,  4.09604347e-02,\n",
              "         -1.59702446e-02, -3.77532770e-02,  7.85117562e-04,\n",
              "         -1.36677476e-02],\n",
              "        [-2.21209502e-02, -1.13205579e-03,  2.00061482e-02,\n",
              "          1.77396047e-02,  6.49984117e-03,  3.64988135e-02,\n",
              "         -1.31657313e-02, -3.23997625e-02,  2.76492675e-04,\n",
              "         -1.22024003e-02],\n",
              "        [-2.02455989e-02, -4.24511792e-04,  1.84708478e-02,\n",
              "          1.77612027e-02,  5.62579849e-03,  3.53276126e-02,\n",
              "         -1.40410636e-02, -3.15480099e-02,  3.64395598e-04,\n",
              "         -1.12906728e-02],\n",
              "        [-2.14812929e-02, -6.08396471e-04,  1.84018287e-02,\n",
              "          1.90875257e-02,  6.79395398e-03,  3.71710424e-02,\n",
              "         -1.44188923e-02, -3.43116101e-02,  7.50752307e-04,\n",
              "         -1.13849113e-02],\n",
              "        [-2.19705565e-02, -1.63589338e-03,  1.99259045e-02,\n",
              "          1.99866947e-02,  6.62774016e-03,  3.91116872e-02,\n",
              "         -1.46176895e-02, -3.41658847e-02,  9.50511421e-04,\n",
              "         -1.42125137e-02],\n",
              "        [-2.03426644e-02, -4.91518202e-04,  1.86554776e-02,\n",
              "          1.81289044e-02,  6.22662054e-03,  3.56031533e-02,\n",
              "         -1.38312992e-02, -3.22665800e-02,  8.96911376e-04,\n",
              "         -1.25790053e-02],\n",
              "        [-2.02770905e-02, -3.93349513e-04,  1.93807234e-02,\n",
              "          1.83632880e-02,  5.98312365e-03,  3.63983807e-02,\n",
              "         -1.45158079e-02, -3.30298218e-02,  2.38849267e-04,\n",
              "         -1.21482952e-02],\n",
              "        [-1.85528503e-02, -1.36232655e-03,  1.68367889e-02,\n",
              "          1.74752524e-02,  4.52887296e-03,  3.13099354e-02,\n",
              "         -1.12949538e-02, -2.91954225e-02,  7.33228709e-04,\n",
              "         -1.04785252e-02],\n",
              "        [-2.03856364e-02, -5.01976083e-04,  1.90491139e-02,\n",
              "          1.79062152e-02,  6.31776910e-03,  3.47179126e-02,\n",
              "         -1.30136933e-02, -3.18613495e-02,  1.89763310e-04,\n",
              "         -1.24181187e-02],\n",
              "        [-2.08730547e-02, -4.84926248e-04,  1.78566007e-02,\n",
              "          1.83119970e-02,  5.53190277e-03,  3.37206632e-02,\n",
              "         -1.29897361e-02, -3.12465603e-02,  1.54385858e-03,\n",
              "         -1.13707447e-02],\n",
              "        [-2.09785555e-02, -4.55975786e-04,  1.91861660e-02,\n",
              "          1.79118429e-02,  6.73563063e-03,  3.58688635e-02,\n",
              "         -1.48387472e-02, -3.26426880e-02,  6.78312833e-04,\n",
              "         -1.14648493e-02],\n",
              "        [-2.09083232e-02, -3.56385028e-04,  1.90369731e-02,\n",
              "          1.78442559e-02,  7.32086887e-03,  3.58338090e-02,\n",
              "         -1.35254955e-02, -3.39563139e-02,  9.73968699e-04,\n",
              "         -1.22633578e-02],\n",
              "        [-2.08289529e-02, -1.82711961e-03,  1.97711068e-02,\n",
              "          1.91870588e-02,  6.40681268e-03,  3.70129169e-02,\n",
              "         -1.51065909e-02, -3.40746491e-02,  3.68103628e-04,\n",
              "         -1.09086861e-02],\n",
              "        [-2.14004999e-02, -7.19868660e-04,  1.85776356e-02,\n",
              "          1.89128425e-02,  5.97256902e-03,  3.67057723e-02,\n",
              "         -1.34782516e-02, -3.25733194e-02,  9.83303328e-04,\n",
              "         -1.29801829e-02],\n",
              "        [-2.25042190e-02, -1.23026474e-03,  1.98730786e-02,\n",
              "          2.02497964e-02,  7.33761746e-03,  3.93367857e-02,\n",
              "         -1.44092926e-02, -3.59146009e-02,  1.16217532e-03,\n",
              "         -1.39010761e-02],\n",
              "        [-2.22957736e-02, -1.36807430e-03,  2.04789702e-02,\n",
              "          1.91308190e-02,  5.90545815e-03,  3.81451193e-02,\n",
              "         -1.54266978e-02, -3.29920364e-02,  1.24498668e-03,\n",
              "         -1.28227708e-02],\n",
              "        [-1.94740230e-02, -9.02362571e-04,  1.71543858e-02,\n",
              "          1.64206689e-02,  5.57726184e-03,  3.27932567e-02,\n",
              "         -1.27575733e-02, -2.98159415e-02,  1.84266268e-03,\n",
              "         -1.08383355e-02],\n",
              "        [-1.86281400e-02, -9.40726435e-04,  1.90805991e-02,\n",
              "          1.82063113e-02,  6.03569044e-03,  3.53239551e-02,\n",
              "         -1.25856038e-02, -3.28358322e-02, -4.19899742e-04,\n",
              "         -1.32363535e-02],\n",
              "        [-2.26999777e-02, -9.18440983e-04,  2.08452502e-02,\n",
              "          2.11453816e-02,  6.37702016e-03,  3.95874103e-02,\n",
              "         -1.48675320e-02, -3.75058206e-02,  1.63299998e-03,\n",
              "         -1.35962908e-02],\n",
              "        [-2.01041855e-02, -8.22024726e-04,  1.87825639e-02,\n",
              "          1.94328888e-02,  5.69276114e-03,  3.66847394e-02,\n",
              "         -1.56365132e-02, -3.30911887e-02,  6.74368290e-04,\n",
              "         -1.16134091e-02],\n",
              "        [-2.09276153e-02, -1.68569061e-03,  1.99933399e-02,\n",
              "          1.96506036e-02,  7.23062289e-03,  3.78600174e-02,\n",
              "         -1.49506399e-02, -3.44221070e-02,  1.06551374e-04,\n",
              "         -1.28550823e-02],\n",
              "        [-2.14008284e-02, -9.90734759e-04,  1.91381989e-02,\n",
              "          1.94263312e-02,  6.42632105e-03,  3.70930389e-02,\n",
              "         -1.46289988e-02, -3.33447308e-02,  1.38950695e-03,\n",
              "         -1.31081042e-02],\n",
              "        [-2.04043967e-02, -5.62812326e-04,  1.86237995e-02,\n",
              "          1.81418636e-02,  5.75459072e-03,  3.49092947e-02,\n",
              "         -1.31496302e-02, -3.25577872e-02,  8.03072342e-05,\n",
              "         -1.08352291e-02],\n",
              "        [-2.06278272e-02, -1.23087189e-03,  1.91677819e-02,\n",
              "          1.88689069e-02,  5.85516716e-03,  3.65912533e-02,\n",
              "         -1.34538885e-02, -3.34049592e-02,  4.90743504e-04,\n",
              "         -1.22563059e-02],\n",
              "        [-2.17529778e-02, -1.22712067e-03,  1.95698904e-02,\n",
              "          1.95176708e-02,  7.02208495e-03,  3.92546085e-02,\n",
              "         -1.48091740e-02, -3.63867416e-02,  1.75941694e-03,\n",
              "         -1.29476573e-02],\n",
              "        [-2.13183807e-02, -6.36739763e-04,  1.85022582e-02,\n",
              "          1.84978167e-02,  6.66684844e-03,  3.60362145e-02,\n",
              "         -1.37011866e-02, -3.29316391e-02, -3.65059027e-05,\n",
              "         -1.10786856e-02],\n",
              "        [-2.28532603e-02, -1.62246614e-04,  2.15518656e-02,\n",
              "          2.18111553e-02,  6.99884786e-03,  4.13116985e-02,\n",
              "         -1.69740927e-02, -3.75744692e-02,  5.53863491e-04,\n",
              "         -1.46633617e-02],\n",
              "        [-2.22470821e-02, -1.25591518e-03,  2.07923252e-02,\n",
              "          1.91106160e-02,  5.87045999e-03,  3.92046088e-02,\n",
              "         -1.48868774e-02, -3.47077206e-02,  1.27571024e-03,\n",
              "         -1.31561247e-02],\n",
              "        [-2.08734329e-02, -1.00108076e-03,  1.91003806e-02,\n",
              "          1.86196654e-02,  6.95132248e-03,  3.67117910e-02,\n",
              "         -1.43804019e-02, -3.36172268e-02,  2.43772944e-04,\n",
              "         -1.17547898e-02],\n",
              "        [-2.06504092e-02, -7.08691652e-04,  1.94074252e-02,\n",
              "          1.92025011e-02,  6.06330271e-03,  3.80010251e-02,\n",
              "         -1.50766645e-02, -3.39595973e-02,  1.05997558e-03,\n",
              "         -1.33388668e-02],\n",
              "        [-2.11156687e-02,  3.02500351e-04,  1.87342162e-02,\n",
              "          1.72399740e-02,  6.46503870e-03,  3.46172020e-02,\n",
              "         -1.33856473e-02, -3.12803899e-02,  8.75351147e-04,\n",
              "         -1.24525764e-02],\n",
              "        [-1.86327793e-02, -9.71484952e-04,  1.75074278e-02,\n",
              "          1.78338150e-02,  5.66848196e-03,  3.29962568e-02,\n",
              "         -1.24126146e-02, -3.03647455e-02, -1.10631515e-04,\n",
              "         -1.15137256e-02],\n",
              "        [-1.83371736e-02, -6.32551560e-04,  1.74023056e-02,\n",
              "          1.67531112e-02,  5.06241828e-03,  3.29231779e-02,\n",
              "         -1.21755192e-02, -3.04044094e-02,  9.46520713e-04,\n",
              "         -1.15378798e-02],\n",
              "        [-2.02661729e-02, -5.20251189e-04,  1.95487225e-02,\n",
              "          1.80721920e-02,  6.14101615e-03,  3.89715043e-02,\n",
              "         -1.44809476e-02, -3.50515331e-02, -3.52330687e-04,\n",
              "         -1.20621993e-02],\n",
              "        [-1.77332294e-02, -9.76747747e-04,  1.70515273e-02,\n",
              "          1.75673189e-02,  5.05136837e-03,  3.34637841e-02,\n",
              "         -1.15754685e-02, -3.06142376e-02,  2.91142754e-04,\n",
              "         -1.25254581e-02],\n",
              "        [-2.17656294e-02,  5.71413183e-05,  1.95860483e-02,\n",
              "          1.94767566e-02,  6.64631034e-03,  3.86060250e-02,\n",
              "         -1.51876736e-02, -3.49683544e-02,  6.51468746e-05,\n",
              "         -1.25157707e-02],\n",
              "        [-2.05023105e-02, -1.46355119e-03,  1.92118435e-02,\n",
              "          1.87384947e-02,  6.12960558e-03,  3.65009376e-02,\n",
              "         -1.43278105e-02, -3.21193126e-02,  1.10506049e-05,\n",
              "         -1.21789471e-02],\n",
              "        [-2.09012688e-02, -7.82041734e-04,  1.83214045e-02,\n",
              "          1.72688186e-02,  5.96785932e-03,  3.49589829e-02,\n",
              "         -1.35463613e-02, -3.12038913e-02,  3.35012917e-04,\n",
              "         -1.04185149e-02],\n",
              "        [-2.24155248e-02, -5.60929216e-04,  2.00103544e-02,\n",
              "          1.97697137e-02,  5.89432515e-03,  3.75979011e-02,\n",
              "         -1.55060831e-02, -3.48729791e-02,  2.54043253e-03,\n",
              "         -1.24572103e-02],\n",
              "        [-2.12390440e-02, -1.06488703e-03,  1.83437791e-02,\n",
              "          1.82022453e-02,  6.54836628e-03,  3.47649302e-02,\n",
              "         -1.30818424e-02, -3.17626571e-02,  5.51847223e-04,\n",
              "         -1.12627374e-02],\n",
              "        [-2.24605609e-02,  9.57883328e-06,  1.95111992e-02,\n",
              "          1.91645241e-02,  6.40138575e-03,  3.81116662e-02,\n",
              "         -1.49160904e-02, -3.40776648e-02,  1.08920535e-03,\n",
              "         -1.28332432e-02],\n",
              "        [-1.99248162e-02, -7.34492200e-04,  1.80275308e-02,\n",
              "          1.83962171e-02,  5.51529528e-03,  3.64350361e-02,\n",
              "         -1.29387660e-02, -3.26400637e-02,  2.20441310e-04,\n",
              "         -1.23563823e-02],\n",
              "        [-2.15343955e-02, -1.55788588e-03,  1.97958649e-02,\n",
              "          1.88779699e-02,  6.88553333e-03,  3.71018933e-02,\n",
              "         -1.47716530e-02, -3.46893029e-02,  4.11574237e-04,\n",
              "         -1.05195984e-02],\n",
              "        [-2.04249129e-02,  4.13985957e-05,  1.94999364e-02,\n",
              "          1.83941349e-02,  6.28706156e-03,  3.66628541e-02,\n",
              "         -1.54721924e-02, -3.24419285e-02,  9.51632915e-04,\n",
              "         -1.34979846e-02],\n",
              "        [-1.81818927e-02, -1.37601490e-03,  1.78591745e-02,\n",
              "          1.70468248e-02,  4.70252528e-03,  3.11850005e-02,\n",
              "         -1.28839711e-02, -2.85538726e-02,  1.03612169e-03,\n",
              "         -1.08338954e-02],\n",
              "        [-1.95109375e-02, -5.68701242e-04,  1.84460227e-02,\n",
              "          1.77210987e-02,  5.27817377e-03,  3.46740638e-02,\n",
              "         -1.37847871e-02, -3.05707751e-02,  9.22484544e-04,\n",
              "         -1.26066425e-02],\n",
              "        [-2.13098244e-02, -2.33065744e-04,  1.90458193e-02,\n",
              "          1.84594008e-02,  6.35818561e-03,  3.69884013e-02,\n",
              "         -1.39698731e-02, -3.38083942e-02,  1.34534420e-03,\n",
              "         -1.28759937e-02],\n",
              "        [-1.97923273e-02, -8.16114212e-04,  1.87194990e-02,\n",
              "          1.88784359e-02,  5.81593633e-03,  3.69596368e-02,\n",
              "         -1.40085813e-02, -3.40640593e-02,  1.74439252e-04,\n",
              "         -1.18668651e-02],\n",
              "        [-2.10623047e-02, -1.89388552e-03,  1.82087992e-02,\n",
              "          1.91966772e-02,  6.65465347e-03,  3.54308660e-02,\n",
              "         -1.32467021e-02, -3.13129902e-02, -4.29637126e-05,\n",
              "         -1.19321494e-02],\n",
              "        [-2.26767019e-02, -1.46825309e-03,  2.03728881e-02,\n",
              "          1.93576352e-02,  6.48556905e-03,  3.93362188e-02,\n",
              "         -1.58216134e-02, -3.37731018e-02,  1.10924625e-03,\n",
              "         -1.29218868e-02],\n",
              "        [-2.18320637e-02, -7.46520905e-04,  1.83551724e-02,\n",
              "          1.84082155e-02,  6.11273199e-03,  3.62869150e-02,\n",
              "         -1.37407708e-02, -3.23304708e-02,  1.37578965e-03,\n",
              "         -1.18889983e-02],\n",
              "        [-2.05316014e-02, -1.06632864e-03,  1.74328462e-02,\n",
              "          1.86504848e-02,  7.18155521e-03,  3.49181310e-02,\n",
              "         -1.39129910e-02, -3.10108919e-02,  6.69511746e-04,\n",
              "         -1.23307158e-02],\n",
              "        [-2.22373730e-02, -3.91953148e-04,  1.91001452e-02,\n",
              "          1.96435121e-02,  7.41273287e-03,  3.80906674e-02,\n",
              "         -1.56919543e-02, -3.40719142e-02,  1.62055207e-03,\n",
              "         -1.34744147e-02],\n",
              "        [-2.17797403e-02, -1.33944464e-03,  2.14890581e-02,\n",
              "          1.97600985e-02,  7.19273172e-03,  4.13103601e-02,\n",
              "         -1.63903731e-02, -3.75677052e-02,  2.36048603e-04,\n",
              "         -1.29110336e-02],\n",
              "        [-2.06301296e-02, -9.78176298e-04,  1.97387954e-02,\n",
              "          1.84926040e-02,  6.08576969e-03,  3.60382656e-02,\n",
              "         -1.36501353e-02, -3.32075180e-02, -1.72365549e-04,\n",
              "         -1.17171097e-02],\n",
              "        [-2.09657439e-02, -7.57809620e-04,  1.98909489e-02,\n",
              "          1.96931860e-02,  5.31625807e-03,  3.74971497e-02,\n",
              "         -1.40929402e-02, -3.43708519e-02, -3.77356375e-04,\n",
              "         -1.18328405e-02],\n",
              "        [-2.11383925e-02,  1.18316235e-04,  2.02865638e-02,\n",
              "          1.89971441e-02,  6.38971846e-03,  3.63460286e-02,\n",
              "         -1.39962859e-02, -3.43490369e-02,  2.52020886e-04,\n",
              "         -1.29060766e-02],\n",
              "        [-2.27196506e-02, -1.69198844e-03,  1.95077135e-02,\n",
              "          1.93723512e-02,  6.39012068e-03,  3.76214701e-02,\n",
              "         -1.41641911e-02, -3.39003602e-02,  1.40404254e-03,\n",
              "         -1.18195075e-02],\n",
              "        [-2.23673095e-02, -1.22686725e-03,  2.09873763e-02,\n",
              "          1.98254608e-02,  7.25923731e-03,  4.03745243e-02,\n",
              "         -1.49228725e-02, -3.70535505e-02, -3.36125150e-05,\n",
              "         -1.28423862e-02],\n",
              "        [-2.05908729e-02, -1.13297317e-03,  1.87142925e-02,\n",
              "          1.83877102e-02,  6.19443053e-03,  3.58611522e-02,\n",
              "         -1.38453789e-02, -3.25196835e-02,  7.26063538e-04,\n",
              "         -1.17947405e-02],\n",
              "        [-1.86601279e-02, -1.90375073e-03,  1.76841608e-02,\n",
              "          1.72794687e-02,  4.66561715e-03,  3.29810345e-02,\n",
              "         -1.16673104e-02, -2.93935279e-02, -1.44069601e-05,\n",
              "         -1.09711573e-02],\n",
              "        [-2.21460778e-02, -6.20919702e-04,  1.99589210e-02,\n",
              "          1.84889117e-02,  6.94446734e-03,  3.78073668e-02,\n",
              "         -1.46632737e-02, -3.34805403e-02,  1.73225701e-03,\n",
              "         -1.40211121e-02],\n",
              "        [-2.20790584e-02, -1.05816183e-03,  2.01356928e-02,\n",
              "          1.98809559e-02,  6.26894728e-03,  3.73952913e-02,\n",
              "         -1.34292531e-02, -3.38233309e-02, -1.76334480e-05,\n",
              "         -1.32734495e-02],\n",
              "        [-1.87072540e-02,  1.43155932e-05,  1.72926663e-02,\n",
              "          1.69477171e-02,  5.27783446e-03,  3.30905063e-02,\n",
              "         -1.28525341e-02, -3.02962469e-02,  5.08181568e-04,\n",
              "         -1.12751862e-02],\n",
              "        [-2.02923658e-02, -3.80093679e-04,  1.82273624e-02,\n",
              "          1.80322762e-02,  5.66544295e-03,  3.49692785e-02,\n",
              "         -1.28562238e-02, -3.08639054e-02, -6.14462858e-05,\n",
              "         -1.24403250e-02],\n",
              "        [-2.09344096e-02, -6.78346554e-04,  1.88878078e-02,\n",
              "          1.85098575e-02,  5.62193389e-03,  3.73447018e-02,\n",
              "         -1.46890686e-02, -3.31084762e-02,  1.32425531e-03,\n",
              "         -1.22782551e-02],\n",
              "        [-2.02138301e-02, -6.19036049e-04,  1.96367896e-02,\n",
              "          1.94295598e-02,  5.18498685e-03,  3.68730107e-02,\n",
              "         -1.42615512e-02, -3.46288653e-02,  8.50411077e-04,\n",
              "         -1.22514751e-02],\n",
              "        [-2.05890285e-02, -3.74529856e-04,  1.84993265e-02,\n",
              "          1.82029807e-02,  6.04168048e-03,  3.73174404e-02,\n",
              "         -1.44259608e-02, -3.25974306e-02,  1.93298206e-04,\n",
              "         -1.22677764e-02],\n",
              "        [-1.97687835e-02, -1.36957381e-03,  1.75753014e-02,\n",
              "          1.85790000e-02,  6.65666038e-03,  3.54046843e-02,\n",
              "         -1.35938173e-02, -3.29489980e-02,  1.71992962e-03,\n",
              "         -1.22544029e-02],\n",
              "        [-1.99728540e-02, -1.34281952e-03,  1.71331920e-02,\n",
              "          1.69835121e-02,  6.49356853e-03,  3.36322863e-02,\n",
              "         -1.41563290e-02, -2.98554779e-02,  1.31423489e-03,\n",
              "         -1.02293134e-02],\n",
              "        [-2.03768012e-02, -6.72231883e-04,  2.05336885e-02,\n",
              "          1.96393529e-02,  5.47921630e-03,  3.89975443e-02,\n",
              "         -1.55981659e-02, -3.42737133e-02, -2.58664201e-07,\n",
              "         -1.37286309e-02],\n",
              "        [-1.92369164e-02, -5.24218404e-04,  1.66574141e-02,\n",
              "          1.71662925e-02,  5.49920049e-03,  3.22281450e-02,\n",
              "         -1.18249635e-02, -2.89258020e-02,  1.45991870e-04,\n",
              "         -1.11851437e-02],\n",
              "        [-1.80348347e-02, -9.58390898e-04,  1.65504723e-02,\n",
              "          1.54547074e-02,  5.17826858e-03,  3.08150681e-02,\n",
              "         -1.13199356e-02, -2.70334411e-02,  2.04070763e-04,\n",
              "         -1.08559848e-02],\n",
              "        [-2.43172875e-02, -2.15029348e-04,  2.28184051e-02,\n",
              "          2.13810010e-02,  6.88270585e-03,  4.31963207e-02,\n",
              "         -1.57450115e-02, -3.97415382e-02,  1.39752503e-03,\n",
              "         -1.56570911e-02],\n",
              "        [-2.47338703e-02, -1.01743250e-03,  2.22225792e-02,\n",
              "          2.27658640e-02,  7.83319648e-03,  4.35874511e-02,\n",
              "         -1.57797378e-02, -3.97586509e-02,  6.90429927e-04,\n",
              "         -1.58098288e-02],\n",
              "        [-2.40081934e-02, -6.78950516e-04,  2.33969814e-02,\n",
              "          2.14291153e-02,  6.79541214e-03,  4.24376519e-02,\n",
              "         -1.65679050e-02, -3.95867761e-02,  2.85605650e-04,\n",
              "         -1.35029412e-02],\n",
              "        [-2.31631206e-02, -4.78726840e-04,  1.98687906e-02,\n",
              "          1.97926237e-02,  7.00710449e-03,  3.76629418e-02,\n",
              "         -1.51978337e-02, -3.24924719e-02,  7.85368657e-04,\n",
              "         -1.37846759e-02],\n",
              "        [-1.97452266e-02, -1.11996505e-03,  1.89997155e-02,\n",
              "          1.95884187e-02,  6.05631838e-03,  3.79806843e-02,\n",
              "         -1.48641598e-02, -3.56404941e-02,  7.51217502e-04,\n",
              "         -1.20065087e-02]]),\n",
              " 'b2': array([-0.04132744, -0.00155868,  0.03774085,  0.03683118,  0.01212681,\n",
              "         0.07236229, -0.02778197, -0.06556653,  0.00151046, -0.02433698])}"
            ]
          },
          "metadata": {},
          "execution_count": 22
        }
      ]
    },
    {
      "cell_type": "markdown",
      "source": [
        "## ミニバッチ学習の実装"
      ],
      "metadata": {
        "id": "QXa5WID9HWq0"
      }
    },
    {
      "cell_type": "code",
      "source": [
        "# coding: utf-8\n",
        "import sys, os\n",
        "sys.path.append(os.pardir)  # 親ディレクトリのファイルをインポートするための設定\n",
        "#from common.functions import *\n",
        "#from common.gradient import numerical_gradient\n",
        "import numpy as np\n",
        "\n",
        "\n",
        "class TwoLayerNet:\n",
        "\n",
        "    def __init__(self, input_size, hidden_size, output_size, weight_init_std=0.01):\n",
        "        # 重みの初期化\n",
        "        self.params = {}\n",
        "        self.params['W1'] = weight_init_std * np.random.randn(input_size, hidden_size)\n",
        "        self.params['b1'] = np.zeros(hidden_size)\n",
        "        self.params['W2'] = weight_init_std * np.random.randn(hidden_size, output_size)\n",
        "        self.params['b2'] = np.zeros(output_size)\n",
        "\n",
        "    def predict(self, x):\n",
        "        W1, W2 = self.params['W1'], self.params['W2']\n",
        "        b1, b2 = self.params['b1'], self.params['b2']\n",
        "\n",
        "        a1 = np.dot(x, W1) + b1\n",
        "        z1 = sigmoid(a1)\n",
        "        a2 = np.dot(z1, W2) + b2\n",
        "        y = softmax(a2)\n",
        "\n",
        "        return y\n",
        "\n",
        "    # x:入力データ, t:教師データ\n",
        "    def loss(self, x, t):\n",
        "        y = self.predict(x)\n",
        "\n",
        "        return cross_entropy_error(y, t)\n",
        "\n",
        "    def accuracy(self, x, t):\n",
        "        y = self.predict(x)\n",
        "        y = np.argmax(y, axis=1)\n",
        "        t = np.argmax(t, axis=1)\n",
        "\n",
        "        accuracy = np.sum(y == t) / float(x.shape[0])\n",
        "        return accuracy\n",
        "\n",
        "    # x:入力データ, t:教師データ\n",
        "    def numerical_gradient(self, x, t):\n",
        "        loss_W = lambda W: self.loss(x, t)\n",
        "\n",
        "        grads = {}\n",
        "        grads['W1'] = numerical_gradient(loss_W, self.params['W1'])\n",
        "        grads['b1'] = numerical_gradient(loss_W, self.params['b1'])\n",
        "        grads['W2'] = numerical_gradient(loss_W, self.params['W2'])\n",
        "        grads['b2'] = numerical_gradient(loss_W, self.params['b2'])\n",
        "\n",
        "        return grads\n",
        "\n",
        "    def gradient(self, x, t):\n",
        "        W1, W2 = self.params['W1'], self.params['W2']\n",
        "        b1, b2 = self.params['b1'], self.params['b2']\n",
        "        grads = {}\n",
        "\n",
        "        batch_num = x.shape[0]\n",
        "\n",
        "        # forward\n",
        "        a1 = np.dot(x, W1) + b1\n",
        "        z1 = sigmoid(a1)\n",
        "        a2 = np.dot(z1, W2) + b2\n",
        "        y = softmax(a2)\n",
        "\n",
        "        # backward\n",
        "        dy = (y - t) / batch_num\n",
        "        grads['W2'] = np.dot(z1.T, dy)\n",
        "        grads['b2'] = np.sum(dy, axis=0)\n",
        "\n",
        "        dz1 = np.dot(dy, W2.T)\n",
        "        da1 = sigmoid_grad(a1) * dz1\n",
        "        grads['W1'] = np.dot(x.T, da1)\n",
        "        grads['b1'] = np.sum(da1, axis=0)\n",
        "\n",
        "        return grads"
      ],
      "metadata": {
        "id": "957Lf8coBaMu"
      },
      "execution_count": null,
      "outputs": []
    },
    {
      "cell_type": "markdown",
      "source": [
        "### 時間の掛かる微分　と　高速化（誤差逆伝播）\n",
        "~~~python\n",
        "    # x:入力データ, t:教師データ\n",
        "    def numerical_gradient(self, x, t):\n",
        "        loss_W = lambda W: self.loss(x, t)\n",
        "        \n",
        "        grads = {}\n",
        "        grads['W1'] = numerical_gradient(loss_W, self.params['W1'])\n",
        "        grads['b1'] = numerical_gradient(loss_W, self.params['b1'])\n",
        "        grads['W2'] = numerical_gradient(loss_W, self.params['W2'])\n",
        "        grads['b2'] = numerical_gradient(loss_W, self.params['b2'])\n",
        "        \n",
        "        return grads\n",
        "~~~\n",
        "\n",
        "### 高速版\n",
        "~~~python\n",
        "    def gradient(self, x, t):\n",
        "        W1, W2 = self.params['W1'], self.params['W2']\n",
        "        b1, b2 = self.params['b1'], self.params['b2']\n",
        "        grads = {}\n",
        "        \n",
        "        batch_num = x.shape[0]\n",
        "        \n",
        "        # forward\n",
        "        a1 = np.dot(x, W1) + b1\n",
        "        z1 = sigmoid(a1)\n",
        "        a2 = np.dot(z1, W2) + b2\n",
        "        y = softmax(a2)\n",
        "        \n",
        "        # backward\n",
        "        dy = (y - t) / batch_num\n",
        "        grads['W2'] = np.dot(z1.T, dy)\n",
        "        grads['b2'] = np.sum(dy, axis=0)\n",
        "        \n",
        "        dz1 = np.dot(dy, W2.T)\n",
        "        da1 = sigmoid_grad(a1) * dz1\n",
        "        grads['W1'] = np.dot(x.T, da1)\n",
        "        grads['b1'] = np.sum(da1, axis=0)\n",
        "\n",
        "        return grads\n",
        "~~~"
      ],
      "metadata": {
        "id": "FHsMp-kBCJIH"
      }
    },
    {
      "cell_type": "markdown",
      "source": [
        "## 学習とLoss関数の推移"
      ],
      "metadata": {
        "id": "JkcB2__GK6iZ"
      }
    },
    {
      "cell_type": "code",
      "source": [
        "import numpy as np\n",
        "from keras.datasets import mnist\n",
        "# テストデータのラベルをone-hotエンコードする\n",
        "from keras.utils import to_categorical\n",
        "from PIL import Image\n",
        "import matplotlib.pyplot as plt\n",
        "\n",
        "# MNISTデータセットをロード\n",
        "(X_train, t_train), (X_test, t_test) = mnist.load_data()\n",
        "\n",
        "# 画像データを正規化 (0~255の値を持つピクセルを0~1の範囲にスケーリング)\n",
        "X_train = X_train.astype('float32') / 255.0\n",
        "X_test = X_test.astype('float32') / 255.0\n",
        "print(X_train.shape)\n",
        "print(X_test.shape)\n",
        "\n",
        "\n",
        "# flatten\n",
        "#X_train = X_train.flatten() # これだとすべてが平坦化されてだめだ\n",
        "#X_test = X_test.flatten() # これだとすべてが平坦化されてだめだ\n",
        "#reshape\n",
        "X_train = X_train.reshape(60000,784)\n",
        "X_test = X_test.reshape(10000,784)\n",
        "\n",
        "print(X_train.shape)\n",
        "print(X_test.shape)\n",
        "\n",
        "# ラベルをone-hotエンコード\n",
        "t_test = to_categorical(t_test)\n",
        "t_train = to_categorical(t_train)\n",
        "\n",
        "train_loss_list=[]\n",
        "# ハイパーパラメータ\n",
        "iters_num = 10000\n",
        "train_size = X_train.shape[0]\n",
        "batch_size = 100\n",
        "learing_rate = 0.1\n",
        "\n",
        "network = TwoLayerNet(input_size=784, hidden_size=50, output_size=10)\n",
        "losshis=[]\n",
        "\n",
        "for i in range(iters_num):\n",
        "    #print(i)\n",
        "    batch_mask = np.random.choice(train_size, batch_size)\n",
        "    x_batch = X_train[batch_mask]\n",
        "    t_batch = t_train[batch_mask]\n",
        "\n",
        "    # gradient calc.\n",
        "    #grad = network.numerical_gradient(x_batch, t_batch)\n",
        "    grad = network.gradient(x_batch, t_batch)\n",
        "\n",
        "    # parameters refix\n",
        "    for key in ('W1', 'b1', 'W2', 'b2'):\n",
        "        network.params[key] -= learing_rate * grad[key]\n",
        "\n",
        "    # loss history\n",
        "    loss = network.loss(x_batch, t_batch)\n",
        "    train_loss_list.append(loss)"
      ],
      "metadata": {
        "colab": {
          "base_uri": "https://localhost:8080/"
        },
        "id": "2esJcoXsEzfk",
        "outputId": "b8975bac-bb46-43ee-bc3d-5ad882a83429"
      },
      "execution_count": null,
      "outputs": [
        {
          "output_type": "stream",
          "name": "stdout",
          "text": [
            "(60000, 28, 28)\n",
            "(10000, 28, 28)\n",
            "(60000, 784)\n",
            "(10000, 784)\n"
          ]
        }
      ]
    },
    {
      "cell_type": "code",
      "source": [
        "import matplotlib.pyplot as plt\n",
        "\n",
        "plt.plot(train_loss_list)\n"
      ],
      "metadata": {
        "id": "m6vUH8MfJAhj",
        "colab": {
          "base_uri": "https://localhost:8080/",
          "height": 447
        },
        "outputId": "fadf622a-daf5-4a87-cf2d-d9227a64f42a"
      },
      "execution_count": null,
      "outputs": [
        {
          "output_type": "execute_result",
          "data": {
            "text/plain": [
              "[<matplotlib.lines.Line2D at 0x7f3fb233d240>]"
            ]
          },
          "metadata": {},
          "execution_count": 34
        },
        {
          "output_type": "display_data",
          "data": {
            "text/plain": [
              "<Figure size 640x480 with 1 Axes>"
            ],
            "image/png": "[encoded data removed]"
          },
          "metadata": {}
        }
      ]
    },
    {
      "cell_type": "markdown",
      "source": [
        "# 5章　単純なレイヤの実装"
      ],
      "metadata": {
        "id": "ebu1P3Y4omZG"
      }
    },
    {
      "cell_type": "code",
      "source": [
        "import numpy as np\n",
        "class MulLayer:\n",
        "    def __init__(self):\n",
        "        self.x = None\n",
        "        self.y = None\n",
        "    def forward(self, x, y):\n",
        "        self.x = x\n",
        "        self.y = y\n",
        "        out = x * y\n",
        "        return out\n",
        "\n",
        "    def backward(self, dout):\n",
        "        dx = dout * self.y # xとyをひっくり返す\n",
        "        dy = dout * self.x\n",
        "\n",
        "        return dx, dy"
      ],
      "metadata": {
        "id": "q65e6InFoq6I"
      },
      "execution_count": 1,
      "outputs": []
    },
    {
      "cell_type": "code",
      "source": [
        "apple = 100\n",
        "apple_num = 2\n",
        "tax = 1.1\n",
        "\n",
        "# layer\n",
        "mul_apple_layer = MulLayer()\n",
        "mul_tax_layer = MulLayer()\n",
        "\n",
        "# forward\n",
        "apple_price = mul_apple_layer.forward(apple,apple_num)\n",
        "price = mul_tax_layer.forward(apple_price, tax)\n",
        "\n",
        "print(price)"
      ],
      "metadata": {
        "colab": {
          "base_uri": "https://localhost:8080/"
        },
        "id": "Uw46Qhv9pTsL",
        "outputId": "2829a9fb-b5be-40ab-cc4f-7dc669c94f7a"
      },
      "execution_count": 3,
      "outputs": [
        {
          "output_type": "stream",
          "name": "stdout",
          "text": [
            "220.00000000000003\n"
          ]
        }
      ]
    },
    {
      "cell_type": "code",
      "source": [
        "# backward\n",
        "dprice = 1\n",
        "dapple_price, dtax = mul_tax_layer.backward(dprice)\n",
        "dapple, dapple_num = mul_apple_layer.backward(dapple_price)\n",
        "print(dapple, dapple_num, dtax)"
      ],
      "metadata": {
        "colab": {
          "base_uri": "https://localhost:8080/"
        },
        "id": "QnGr3ecqqIyW",
        "outputId": "7e343ef8-98ca-41ab-e2b5-ed26b0fe5c79"
      },
      "execution_count": 5,
      "outputs": [
        {
          "output_type": "stream",
          "name": "stdout",
          "text": [
            "2.2 110.00000000000001 200\n"
          ]
        }
      ]
    },
    {
      "cell_type": "code",
      "source": [
        "# 加算レイヤの実装\n",
        "class AddLayer:\n",
        "    def __init__(self):\n",
        "        pass\n",
        "\n",
        "    def forward(self, x, y):\n",
        "        out = x + y\n",
        "        return out\n",
        "\n",
        "    def backward(self, dout):\n",
        "        dx = dout * 1\n",
        "        dy = dout * 1\n",
        "        return dx, dy"
      ],
      "metadata": {
        "id": "h7MtG29YrUQ7"
      },
      "execution_count": 12,
      "outputs": []
    },
    {
      "cell_type": "code",
      "source": [
        "apple = 100\n",
        "apple_num = 2\n",
        "orange = 150\n",
        "orange_num = 3\n",
        "tax = 1.1\n",
        "\n",
        "# layer\n",
        "mul_apple_layer = MulLayer()\n",
        "mul_orange_layer = MulLayer()\n",
        "add_apple_orange_layer = AddLayer()\n",
        "mul_tax_layer = MulLayer()\n",
        "\n",
        "# forward\n",
        "apple_price = mul_apple_layer.forward(apple, apple_num)\n",
        "orange_price = mul_orange_layer.forward(orange, orange_num)\n",
        "all_price = add_apple_orange_layer.forward(apple_price, orange_price)\n",
        "price = mul_tax_layer.forward(all_price, tax)\n",
        "\n",
        "# backward\n",
        "dprice = 1\n",
        "dall_price, dtax = mul_tax_layer.backward(dprice)\n",
        "dapple_price, dorange_price = add_apple_orange_layer.backward(dall_price)\n",
        "dorange, dorange_num=mul_orange_layer.backward(dorange_price)\n",
        "dapple, adpple_num = mul_apple_layer.backward(dapple_price)\n",
        "\n",
        "print(dapple_num, dapple, dorange, dorange_num, dtax)"
      ],
      "metadata": {
        "colab": {
          "base_uri": "https://localhost:8080/"
        },
        "id": "kn4SHfgXtOo_",
        "outputId": "5d6baf14-c474-416b-ed06-e76e0c511a66"
      },
      "execution_count": 14,
      "outputs": [
        {
          "output_type": "stream",
          "name": "stdout",
          "text": [
            "110.00000000000001 2.2 3.3000000000000003 165.0 650\n"
          ]
        }
      ]
    },
    {
      "cell_type": "code",
      "source": [],
      "metadata": {
        "id": "5EzVevZIuRAB"
      },
      "execution_count": null,
      "outputs": []
    },
    {
      "cell_type": "markdown",
      "source": [
        "# 活性化関数 ReLU"
      ],
      "metadata": {
        "id": "x6pndjWhB6p1"
      }
    },
    {
      "cell_type": "code",
      "source": [],
      "metadata": {
        "id": "R_4mrGgeCr47"
      },
      "execution_count": null,
      "outputs": []
    },
    {
      "cell_type": "markdown",
      "source": [
        "$$\n",
        "y = \\begin{cases}\n",
        "0 & \\text{if } x \\leq 0 \\\\\n",
        "x & \\text{if } x > 0\n",
        "\\end{cases}\n",
        "$$"
      ],
      "metadata": {
        "id": "29B2D6DVB_tY"
      }
    },
    {
      "cell_type": "markdown",
      "source": [
        "$$\n",
        "\\frac{ \\partial{y}}{\\partial{x}}  = \\begin{cases}\n",
        "0 & \\text{if } x \\leq 0 \\\\\n",
        "1 & \\text{if } x > 0\n",
        "\\end{cases}\n",
        "$$"
      ],
      "metadata": {
        "id": "33dfoLM9DMDa"
      }
    },
    {
      "cell_type": "code",
      "source": [
        "class ReLU:\n",
        "    def __init__(self):\n",
        "        self.mask = None\n",
        "\n",
        "    def forward(self, x):\n",
        "        self.mask = (x <=0)\n",
        "        out = x.copy()\n",
        "        out[self.mask] = 0\n",
        "        return out\n",
        "\n",
        "    def backward(self, dout):\n",
        "        dout[self.mask] = 0\n",
        "        dx = dout\n",
        "        return dx"
      ],
      "metadata": {
        "id": "6XegmPXzB-TI"
      },
      "execution_count": 15,
      "outputs": []
    },
    {
      "cell_type": "code",
      "source": [
        "# mask変数はTrue/FalseからなるNumpy配列である\n",
        "x = np.array( [[1, -0.5],[-2.0, 3.0]] )\n",
        "print(x)\n",
        "\n",
        "mask = ( x <= 0 )\n",
        "print(mask)"
      ],
      "metadata": {
        "colab": {
          "base_uri": "https://localhost:8080/"
        },
        "id": "HVXmK64pEpAT",
        "outputId": "7f3ae227-fab2-4629-b471-9990e38bef41"
      },
      "execution_count": 16,
      "outputs": [
        {
          "output_type": "stream",
          "name": "stdout",
          "text": [
            "[[ 1.  -0.5]\n",
            " [-2.   3. ]]\n",
            "[[False  True]\n",
            " [ True False]]\n"
          ]
        }
      ]
    },
    {
      "cell_type": "markdown",
      "source": [
        "# ☆活性化関数 Sigmoid"
      ],
      "metadata": {
        "id": "6ZhNnYYnFKKy"
      }
    },
    {
      "cell_type": "markdown",
      "source": [
        "$$\n",
        "y=\\frac{1}{1+\\exp(-x)}\n",
        "$$"
      ],
      "metadata": {
        "id": "vy3HpFUhFO09"
      }
    },
    {
      "cell_type": "markdown",
      "source": [
        "$$\n",
        "\\frac{\\partial y}{\\partial x}\n",
        "= -(1+\\exp(-x))^{-2} ・(-\\exp(-x))\n",
        "$$\n",
        "$$\n",
        "=\\frac{1}{1+\\exp(-x)} ・\\frac{\\exp(-x)}{1+\\exp(-x)}\n",
        "$$\n",
        "$$\n",
        "=y・(\\frac { 1+\\exp(-x)-1}{1+\\exp(-x)})\n",
        "$$\n",
        "$$\n",
        "=y(1-y)\n",
        "$$\n"
      ],
      "metadata": {
        "id": "fJ_qnUaxHqyF"
      }
    },
    {
      "cell_type": "markdown",
      "source": [
        "X → sigmoid → Y\n",
        "$$\n",
        "\\frac{\\partial L}{\\partial x} = \\frac{\\partial L}{\\partial y} ・ \\frac{\\partial y}{\\partial x}\n",
        "$$\n",
        "$$\n",
        "= \\frac{\\partial L}{\\partial y} ・ y(1-y)\n",
        "$$"
      ],
      "metadata": {
        "id": "LWRRZ0jUKPWm"
      }
    },
    {
      "cell_type": "code",
      "source": [
        "class Sigmoid:\n",
        "    def __init__(self):\n",
        "        self.out = None\n",
        "\n",
        "    def forward(self, x):\n",
        "        out = 1 /( 1 + np.exp(-x) )\n",
        "        self.out = out\n",
        "\n",
        "        return out\n",
        "\n",
        "    def backward(self,dout):\n",
        "        dx = dout( self.out*(1 - self.out) )\n",
        "        return dx"
      ],
      "metadata": {
        "id": "Qs5mT9A2FA2F"
      },
      "execution_count": 17,
      "outputs": []
    },
    {
      "cell_type": "code",
      "source": [],
      "metadata": {
        "id": "DY-YqhsgLHaX"
      },
      "execution_count": null,
      "outputs": []
    }
  ]
}